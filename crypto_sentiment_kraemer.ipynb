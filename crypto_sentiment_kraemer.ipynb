{
 "cells": [
  {
   "cell_type": "markdown",
   "metadata": {},
   "source": [
    "# Unit 12 - Tales from the Crypto\n",
    "\n",
    "---\n"
   ]
  },
  {
   "cell_type": "markdown",
   "metadata": {},
   "source": [
    "## 1. Sentiment Analysis\n",
    "\n",
    "Use the [newsapi](https://newsapi.org/) to pull the latest news articles for Bitcoin and Ethereum and create a DataFrame of sentiment scores for each coin.\n",
    "\n",
    "Use descriptive statistics to answer the following questions:\n",
    "1. Which coin had the highest mean positive score?\n",
    "2. Which coin had the highest negative score?\n",
    "3. Which coin had the highest positive score?"
   ]
  },
  {
   "cell_type": "code",
   "execution_count": 1,
   "metadata": {},
   "outputs": [
    {
     "name": "stderr",
     "output_type": "stream",
     "text": [
      "[nltk_data] Downloading package vader_lexicon to\n",
      "[nltk_data]     C:\\Users\\johnf\\AppData\\Roaming\\nltk_data...\n",
      "[nltk_data]   Package vader_lexicon is already up-to-date!\n"
     ]
    }
   ],
   "source": [
    "# Initial imports\n",
    "import os\n",
    "import pandas as pd\n",
    "from dotenv import load_dotenv\n",
    "import nltk as nltk\n",
    "nltk.download('vader_lexicon')\n",
    "from nltk.sentiment.vader import SentimentIntensityAnalyzer\n",
    "analyzer = SentimentIntensityAnalyzer()\n",
    "from newsapi import NewsApiClient\n",
    "load_dotenv(\"jfk.env\")\n",
    "\n",
    "%matplotlib inline"
   ]
  },
  {
   "cell_type": "code",
   "execution_count": 2,
   "metadata": {},
   "outputs": [],
   "source": [
    "# Read your api key environment variable\n",
    "api_key = os.getenv(\"NEWS_API_KEY\")"
   ]
  },
  {
   "cell_type": "code",
   "execution_count": 3,
   "metadata": {},
   "outputs": [],
   "source": [
    "# Create a newsapi client\n",
    "newsapi = NewsApiClient(api_key=api_key)"
   ]
  },
  {
   "cell_type": "code",
   "execution_count": 4,
   "metadata": {},
   "outputs": [
    {
     "data": {
      "text/plain": [
       "10381"
      ]
     },
     "execution_count": 4,
     "metadata": {},
     "output_type": "execute_result"
    }
   ],
   "source": [
    "# Fetch the Bitcoin news articles\n",
    "btc_headlines = newsapi.get_everything(\n",
    "    q='Bitcoin',\n",
    "    language='en',\n",
    "    page_size=100,\n",
    "    sort_by='relevancy'\n",
    ")\n",
    "\n",
    "btc_headlines['totalResults']"
   ]
  },
  {
   "cell_type": "code",
   "execution_count": 5,
   "metadata": {},
   "outputs": [
    {
     "data": {
      "text/plain": [
       "3999"
      ]
     },
     "execution_count": 5,
     "metadata": {},
     "output_type": "execute_result"
    }
   ],
   "source": [
    "# Fetch the Ethereum news articles\n",
    "eth_headlines = newsapi.get_everything(\n",
    "    q='Ethereum',\n",
    "    language='en',\n",
    "    page_size=100,\n",
    "    sort_by='relevancy'\n",
    ")\n",
    "\n",
    "eth_headlines['totalResults']"
   ]
  },
  {
   "cell_type": "code",
   "execution_count": 6,
   "metadata": {},
   "outputs": [],
   "source": [
    "# Create the Bitcoin sentiment scores DataFrame\n",
    "btc_sentiments = []"
   ]
  },
  {
   "cell_type": "code",
   "execution_count": 7,
   "metadata": {},
   "outputs": [],
   "source": [
    "for article in btc_headlines['articles']:\n",
    "    try:\n",
    "        text = article['content']\n",
    "        date = article['publishedAt'][:10]\n",
    "        sentiment = analyzer.polarity_scores(text)\n",
    "        compound = sentiment['compound']\n",
    "        pos = sentiment['pos']\n",
    "        neu = sentiment['neu']\n",
    "        neg = sentiment['neg']\n",
    "        \n",
    "        btc_sentiments.append({\n",
    "        'text': text,\n",
    "        'date': date,\n",
    "        'compound': compound,\n",
    "        'positive' : pos,\n",
    "        'neutral' : neu,\n",
    "        'negative': neg\n",
    "        }\n",
    "        )\n",
    "    except AttributeError:\n",
    "        pass\n",
    "btc_df = pd.DataFrame(btc_sentiments)"
   ]
  },
  {
   "cell_type": "code",
   "execution_count": 8,
   "metadata": {},
   "outputs": [
    {
     "data": {
      "text/html": [
       "<div>\n",
       "<style scoped>\n",
       "    .dataframe tbody tr th:only-of-type {\n",
       "        vertical-align: middle;\n",
       "    }\n",
       "\n",
       "    .dataframe tbody tr th {\n",
       "        vertical-align: top;\n",
       "    }\n",
       "\n",
       "    .dataframe thead th {\n",
       "        text-align: right;\n",
       "    }\n",
       "</style>\n",
       "<table border=\"1\" class=\"dataframe\">\n",
       "  <thead>\n",
       "    <tr style=\"text-align: right;\">\n",
       "      <th></th>\n",
       "      <th>date</th>\n",
       "      <th>text</th>\n",
       "      <th>compound</th>\n",
       "      <th>positive</th>\n",
       "      <th>negative</th>\n",
       "      <th>neutral</th>\n",
       "    </tr>\n",
       "  </thead>\n",
       "  <tbody>\n",
       "    <tr>\n",
       "      <th>0</th>\n",
       "      <td>2021-04-27</td>\n",
       "      <td>Tesla’s relationship with bitcoin is not a dal...</td>\n",
       "      <td>0.0000</td>\n",
       "      <td>0.000</td>\n",
       "      <td>0.0</td>\n",
       "      <td>1.000</td>\n",
       "    </tr>\n",
       "    <tr>\n",
       "      <th>1</th>\n",
       "      <td>2021-04-20</td>\n",
       "      <td>Cryptocurrency continues to gain mainstream ac...</td>\n",
       "      <td>0.7506</td>\n",
       "      <td>0.171</td>\n",
       "      <td>0.0</td>\n",
       "      <td>0.829</td>\n",
       "    </tr>\n",
       "    <tr>\n",
       "      <th>2</th>\n",
       "      <td>2021-04-23</td>\n",
       "      <td>Cryptocurrency prices continued to tumble Frid...</td>\n",
       "      <td>0.0000</td>\n",
       "      <td>0.000</td>\n",
       "      <td>0.0</td>\n",
       "      <td>1.000</td>\n",
       "    </tr>\n",
       "    <tr>\n",
       "      <th>3</th>\n",
       "      <td>2021-04-13</td>\n",
       "      <td>The crypto industry as a whole has seen a mome...</td>\n",
       "      <td>0.6124</td>\n",
       "      <td>0.135</td>\n",
       "      <td>0.0</td>\n",
       "      <td>0.865</td>\n",
       "    </tr>\n",
       "    <tr>\n",
       "      <th>4</th>\n",
       "      <td>2021-04-27</td>\n",
       "      <td>image copyrightGetty Images\\r\\nimage captionEl...</td>\n",
       "      <td>0.7003</td>\n",
       "      <td>0.167</td>\n",
       "      <td>0.0</td>\n",
       "      <td>0.833</td>\n",
       "    </tr>\n",
       "  </tbody>\n",
       "</table>\n",
       "</div>"
      ],
      "text/plain": [
       "         date                                               text  compound  \\\n",
       "0  2021-04-27  Tesla’s relationship with bitcoin is not a dal...    0.0000   \n",
       "1  2021-04-20  Cryptocurrency continues to gain mainstream ac...    0.7506   \n",
       "2  2021-04-23  Cryptocurrency prices continued to tumble Frid...    0.0000   \n",
       "3  2021-04-13  The crypto industry as a whole has seen a mome...    0.6124   \n",
       "4  2021-04-27  image copyrightGetty Images\\r\\nimage captionEl...    0.7003   \n",
       "\n",
       "   positive  negative  neutral  \n",
       "0     0.000       0.0    1.000  \n",
       "1     0.171       0.0    0.829  \n",
       "2     0.000       0.0    1.000  \n",
       "3     0.135       0.0    0.865  \n",
       "4     0.167       0.0    0.833  "
      ]
     },
     "execution_count": 8,
     "metadata": {},
     "output_type": "execute_result"
    }
   ],
   "source": [
    "cols = [\"date\", \"text\", \"compound\", \"positive\", \"negative\", \"neutral\"]\n",
    "btc_df = btc_df[cols]\n",
    "\n",
    "btc_df.head()"
   ]
  },
  {
   "cell_type": "code",
   "execution_count": 9,
   "metadata": {},
   "outputs": [],
   "source": [
    "# Create the Ethereum sentiment scores DataFrame\n",
    "eth_sentiments = []"
   ]
  },
  {
   "cell_type": "code",
   "execution_count": 10,
   "metadata": {},
   "outputs": [],
   "source": [
    "for article in eth_headlines['articles']:\n",
    "    try:\n",
    "        text = article['content']\n",
    "        date = article['publishedAt'][:10]\n",
    "        sentiment = analyzer.polarity_scores(text)\n",
    "        compound = sentiment['compound']\n",
    "        pos = sentiment['pos']\n",
    "        neu = sentiment['neu']\n",
    "        neg = sentiment['neg']\n",
    "        \n",
    "        eth_sentiments.append({\n",
    "        'text': text,\n",
    "        'date': date,\n",
    "        'compound': compound,\n",
    "        'positive' : pos,\n",
    "        'neutral' : neu,\n",
    "        'negative': neg\n",
    "        }\n",
    "        )\n",
    "    except AttributeError:\n",
    "        pass\n",
    "eth_df = pd.DataFrame(eth_sentiments)"
   ]
  },
  {
   "cell_type": "code",
   "execution_count": 11,
   "metadata": {},
   "outputs": [
    {
     "data": {
      "text/html": [
       "<div>\n",
       "<style scoped>\n",
       "    .dataframe tbody tr th:only-of-type {\n",
       "        vertical-align: middle;\n",
       "    }\n",
       "\n",
       "    .dataframe tbody tr th {\n",
       "        vertical-align: top;\n",
       "    }\n",
       "\n",
       "    .dataframe thead th {\n",
       "        text-align: right;\n",
       "    }\n",
       "</style>\n",
       "<table border=\"1\" class=\"dataframe\">\n",
       "  <thead>\n",
       "    <tr style=\"text-align: right;\">\n",
       "      <th></th>\n",
       "      <th>date</th>\n",
       "      <th>text</th>\n",
       "      <th>compound</th>\n",
       "      <th>positive</th>\n",
       "      <th>negative</th>\n",
       "      <th>neutral</th>\n",
       "    </tr>\n",
       "  </thead>\n",
       "  <tbody>\n",
       "    <tr>\n",
       "      <th>0</th>\n",
       "      <td>2021-05-04</td>\n",
       "      <td>Their investors call them disruptive innovator...</td>\n",
       "      <td>-0.4019</td>\n",
       "      <td>0.072</td>\n",
       "      <td>0.15</td>\n",
       "      <td>0.778</td>\n",
       "    </tr>\n",
       "    <tr>\n",
       "      <th>1</th>\n",
       "      <td>2021-04-20</td>\n",
       "      <td>Cryptocurrency continues to gain mainstream ac...</td>\n",
       "      <td>0.7506</td>\n",
       "      <td>0.171</td>\n",
       "      <td>0.00</td>\n",
       "      <td>0.829</td>\n",
       "    </tr>\n",
       "    <tr>\n",
       "      <th>2</th>\n",
       "      <td>2021-04-20</td>\n",
       "      <td>Venmo is jumping aboard the cryptocurrency ban...</td>\n",
       "      <td>0.0258</td>\n",
       "      <td>0.034</td>\n",
       "      <td>0.00</td>\n",
       "      <td>0.966</td>\n",
       "    </tr>\n",
       "    <tr>\n",
       "      <th>3</th>\n",
       "      <td>2021-05-01</td>\n",
       "      <td>New York (CNN Business)Bitcoin prices continue...</td>\n",
       "      <td>0.0000</td>\n",
       "      <td>0.000</td>\n",
       "      <td>0.00</td>\n",
       "      <td>1.000</td>\n",
       "    </tr>\n",
       "    <tr>\n",
       "      <th>4</th>\n",
       "      <td>2021-05-03</td>\n",
       "      <td>The creators behind CryptoPunks, one of the mo...</td>\n",
       "      <td>0.4754</td>\n",
       "      <td>0.091</td>\n",
       "      <td>0.00</td>\n",
       "      <td>0.909</td>\n",
       "    </tr>\n",
       "  </tbody>\n",
       "</table>\n",
       "</div>"
      ],
      "text/plain": [
       "         date                                               text  compound  \\\n",
       "0  2021-05-04  Their investors call them disruptive innovator...   -0.4019   \n",
       "1  2021-04-20  Cryptocurrency continues to gain mainstream ac...    0.7506   \n",
       "2  2021-04-20  Venmo is jumping aboard the cryptocurrency ban...    0.0258   \n",
       "3  2021-05-01  New York (CNN Business)Bitcoin prices continue...    0.0000   \n",
       "4  2021-05-03  The creators behind CryptoPunks, one of the mo...    0.4754   \n",
       "\n",
       "   positive  negative  neutral  \n",
       "0     0.072      0.15    0.778  \n",
       "1     0.171      0.00    0.829  \n",
       "2     0.034      0.00    0.966  \n",
       "3     0.000      0.00    1.000  \n",
       "4     0.091      0.00    0.909  "
      ]
     },
     "execution_count": 11,
     "metadata": {},
     "output_type": "execute_result"
    }
   ],
   "source": [
    "cols = [\"date\", \"text\", \"compound\", \"positive\", \"negative\", \"neutral\"]\n",
    "eth_df = eth_df[cols]\n",
    "\n",
    "eth_df.head()"
   ]
  },
  {
   "cell_type": "code",
   "execution_count": 12,
   "metadata": {},
   "outputs": [
    {
     "data": {
      "text/html": [
       "<div>\n",
       "<style scoped>\n",
       "    .dataframe tbody tr th:only-of-type {\n",
       "        vertical-align: middle;\n",
       "    }\n",
       "\n",
       "    .dataframe tbody tr th {\n",
       "        vertical-align: top;\n",
       "    }\n",
       "\n",
       "    .dataframe thead th {\n",
       "        text-align: right;\n",
       "    }\n",
       "</style>\n",
       "<table border=\"1\" class=\"dataframe\">\n",
       "  <thead>\n",
       "    <tr style=\"text-align: right;\">\n",
       "      <th></th>\n",
       "      <th>compound</th>\n",
       "      <th>positive</th>\n",
       "      <th>negative</th>\n",
       "      <th>neutral</th>\n",
       "    </tr>\n",
       "  </thead>\n",
       "  <tbody>\n",
       "    <tr>\n",
       "      <th>count</th>\n",
       "      <td>100.000000</td>\n",
       "      <td>100.000000</td>\n",
       "      <td>100.000000</td>\n",
       "      <td>100.000000</td>\n",
       "    </tr>\n",
       "    <tr>\n",
       "      <th>mean</th>\n",
       "      <td>0.108410</td>\n",
       "      <td>0.058930</td>\n",
       "      <td>0.029220</td>\n",
       "      <td>0.911860</td>\n",
       "    </tr>\n",
       "    <tr>\n",
       "      <th>std</th>\n",
       "      <td>0.348701</td>\n",
       "      <td>0.067328</td>\n",
       "      <td>0.046492</td>\n",
       "      <td>0.083839</td>\n",
       "    </tr>\n",
       "    <tr>\n",
       "      <th>min</th>\n",
       "      <td>-0.680800</td>\n",
       "      <td>0.000000</td>\n",
       "      <td>0.000000</td>\n",
       "      <td>0.662000</td>\n",
       "    </tr>\n",
       "    <tr>\n",
       "      <th>25%</th>\n",
       "      <td>0.000000</td>\n",
       "      <td>0.000000</td>\n",
       "      <td>0.000000</td>\n",
       "      <td>0.843500</td>\n",
       "    </tr>\n",
       "    <tr>\n",
       "      <th>50%</th>\n",
       "      <td>0.000000</td>\n",
       "      <td>0.048000</td>\n",
       "      <td>0.000000</td>\n",
       "      <td>0.922000</td>\n",
       "    </tr>\n",
       "    <tr>\n",
       "      <th>75%</th>\n",
       "      <td>0.340000</td>\n",
       "      <td>0.100750</td>\n",
       "      <td>0.061250</td>\n",
       "      <td>1.000000</td>\n",
       "    </tr>\n",
       "    <tr>\n",
       "      <th>max</th>\n",
       "      <td>0.817600</td>\n",
       "      <td>0.269000</td>\n",
       "      <td>0.219000</td>\n",
       "      <td>1.000000</td>\n",
       "    </tr>\n",
       "  </tbody>\n",
       "</table>\n",
       "</div>"
      ],
      "text/plain": [
       "         compound    positive    negative     neutral\n",
       "count  100.000000  100.000000  100.000000  100.000000\n",
       "mean     0.108410    0.058930    0.029220    0.911860\n",
       "std      0.348701    0.067328    0.046492    0.083839\n",
       "min     -0.680800    0.000000    0.000000    0.662000\n",
       "25%      0.000000    0.000000    0.000000    0.843500\n",
       "50%      0.000000    0.048000    0.000000    0.922000\n",
       "75%      0.340000    0.100750    0.061250    1.000000\n",
       "max      0.817600    0.269000    0.219000    1.000000"
      ]
     },
     "execution_count": 12,
     "metadata": {},
     "output_type": "execute_result"
    }
   ],
   "source": [
    "# Describe the Bitcoin Sentiment\n",
    "btc_df.describe()"
   ]
  },
  {
   "cell_type": "code",
   "execution_count": 13,
   "metadata": {},
   "outputs": [
    {
     "data": {
      "text/html": [
       "<div>\n",
       "<style scoped>\n",
       "    .dataframe tbody tr th:only-of-type {\n",
       "        vertical-align: middle;\n",
       "    }\n",
       "\n",
       "    .dataframe tbody tr th {\n",
       "        vertical-align: top;\n",
       "    }\n",
       "\n",
       "    .dataframe thead th {\n",
       "        text-align: right;\n",
       "    }\n",
       "</style>\n",
       "<table border=\"1\" class=\"dataframe\">\n",
       "  <thead>\n",
       "    <tr style=\"text-align: right;\">\n",
       "      <th></th>\n",
       "      <th>compound</th>\n",
       "      <th>positive</th>\n",
       "      <th>negative</th>\n",
       "      <th>neutral</th>\n",
       "    </tr>\n",
       "  </thead>\n",
       "  <tbody>\n",
       "    <tr>\n",
       "      <th>count</th>\n",
       "      <td>100.000000</td>\n",
       "      <td>100.000000</td>\n",
       "      <td>100.000000</td>\n",
       "      <td>100.000000</td>\n",
       "    </tr>\n",
       "    <tr>\n",
       "      <th>mean</th>\n",
       "      <td>0.105502</td>\n",
       "      <td>0.049860</td>\n",
       "      <td>0.023300</td>\n",
       "      <td>0.926850</td>\n",
       "    </tr>\n",
       "    <tr>\n",
       "      <th>std</th>\n",
       "      <td>0.341558</td>\n",
       "      <td>0.066301</td>\n",
       "      <td>0.045337</td>\n",
       "      <td>0.079832</td>\n",
       "    </tr>\n",
       "    <tr>\n",
       "      <th>min</th>\n",
       "      <td>-0.918600</td>\n",
       "      <td>0.000000</td>\n",
       "      <td>0.000000</td>\n",
       "      <td>0.694000</td>\n",
       "    </tr>\n",
       "    <tr>\n",
       "      <th>25%</th>\n",
       "      <td>0.000000</td>\n",
       "      <td>0.000000</td>\n",
       "      <td>0.000000</td>\n",
       "      <td>0.874250</td>\n",
       "    </tr>\n",
       "    <tr>\n",
       "      <th>50%</th>\n",
       "      <td>0.000000</td>\n",
       "      <td>0.000000</td>\n",
       "      <td>0.000000</td>\n",
       "      <td>0.943500</td>\n",
       "    </tr>\n",
       "    <tr>\n",
       "      <th>75%</th>\n",
       "      <td>0.323650</td>\n",
       "      <td>0.079750</td>\n",
       "      <td>0.040500</td>\n",
       "      <td>1.000000</td>\n",
       "    </tr>\n",
       "    <tr>\n",
       "      <th>max</th>\n",
       "      <td>0.827100</td>\n",
       "      <td>0.256000</td>\n",
       "      <td>0.289000</td>\n",
       "      <td>1.000000</td>\n",
       "    </tr>\n",
       "  </tbody>\n",
       "</table>\n",
       "</div>"
      ],
      "text/plain": [
       "         compound    positive    negative     neutral\n",
       "count  100.000000  100.000000  100.000000  100.000000\n",
       "mean     0.105502    0.049860    0.023300    0.926850\n",
       "std      0.341558    0.066301    0.045337    0.079832\n",
       "min     -0.918600    0.000000    0.000000    0.694000\n",
       "25%      0.000000    0.000000    0.000000    0.874250\n",
       "50%      0.000000    0.000000    0.000000    0.943500\n",
       "75%      0.323650    0.079750    0.040500    1.000000\n",
       "max      0.827100    0.256000    0.289000    1.000000"
      ]
     },
     "execution_count": 13,
     "metadata": {},
     "output_type": "execute_result"
    }
   ],
   "source": [
    "# Describe the Ethereum Sentiment\n",
    "eth_df.describe()"
   ]
  },
  {
   "cell_type": "markdown",
   "metadata": {},
   "source": [
    "### Questions:\n",
    "\n",
    "Q: Which coin had the highest mean positive score?\n",
    "\n",
    "A: Bitcoin has the highest mean positive score of 0.589.\n",
    "\n",
    "Q: Which coin had the highest compound score?\n",
    "\n",
    "A: Ethereum has the highest compound score of 0.829.\n",
    "\n",
    "Q. Which coin had the highest positive score?\n",
    "\n",
    "A: Bitcoin has the highest positive score of 0.269."
   ]
  },
  {
   "cell_type": "markdown",
   "metadata": {},
   "source": [
    "---"
   ]
  },
  {
   "cell_type": "markdown",
   "metadata": {},
   "source": [
    "## 2. Natural Language Processing\n",
    "---\n",
    "###   Tokenizer\n",
    "\n",
    "In this section, you will use NLTK and Python to tokenize the text for each coin. Be sure to:\n",
    "1. Lowercase each word.\n",
    "2. Remove Punctuation.\n",
    "3. Remove Stopwords."
   ]
  },
  {
   "cell_type": "code",
   "execution_count": 14,
   "metadata": {},
   "outputs": [],
   "source": [
    "from nltk.tokenize import word_tokenize, sent_tokenize\n",
    "from nltk.corpus import stopwords\n",
    "from nltk.stem import WordNetLemmatizer, PorterStemmer\n",
    "from string import punctuation\n",
    "import re"
   ]
  },
  {
   "cell_type": "code",
   "execution_count": 15,
   "metadata": {},
   "outputs": [
    {
     "name": "stdout",
     "output_type": "stream",
     "text": [
      "['i', 'me', 'my', 'myself', 'we', 'our', 'ours', 'ourselves', 'you', \"you're\", \"you've\", \"you'll\", \"you'd\", 'your', 'yours', 'yourself', 'yourselves', 'he', 'him', 'his', 'himself', 'she', \"she's\", 'her', 'hers', 'herself', 'it', \"it's\", 'its', 'itself', 'they', 'them', 'their', 'theirs', 'themselves', 'what', 'which', 'who', 'whom', 'this', 'that', \"that'll\", 'these', 'those', 'am', 'is', 'are', 'was', 'were', 'be', 'been', 'being', 'have', 'has', 'had', 'having', 'do', 'does', 'did', 'doing', 'a', 'an', 'the', 'and', 'but', 'if', 'or', 'because', 'as', 'until', 'while', 'of', 'at', 'by', 'for', 'with', 'about', 'against', 'between', 'into', 'through', 'during', 'before', 'after', 'above', 'below', 'to', 'from', 'up', 'down', 'in', 'out', 'on', 'off', 'over', 'under', 'again', 'further', 'then', 'once', 'here', 'there', 'when', 'where', 'why', 'how', 'all', 'any', 'both', 'each', 'few', 'more', 'most', 'other', 'some', 'such', 'no', 'nor', 'not', 'only', 'own', 'same', 'so', 'than', 'too', 'very', 's', 't', 'can', 'will', 'just', 'don', \"don't\", 'should', \"should've\", 'now', 'd', 'll', 'm', 'o', 're', 've', 'y', 'ain', 'aren', \"aren't\", 'couldn', \"couldn't\", 'didn', \"didn't\", 'doesn', \"doesn't\", 'hadn', \"hadn't\", 'hasn', \"hasn't\", 'haven', \"haven't\", 'isn', \"isn't\", 'ma', 'mightn', \"mightn't\", 'mustn', \"mustn't\", 'needn', \"needn't\", 'shan', \"shan't\", 'shouldn', \"shouldn't\", 'wasn', \"wasn't\", 'weren', \"weren't\", 'won', \"won't\", 'wouldn', \"wouldn't\"]\n"
     ]
    }
   ],
   "source": [
    "# Instantiate the lemmatizer\n",
    "wnl = WordNetLemmatizer()\n",
    "\n",
    "# Create a list of stopwords\n",
    "print(stopwords.words('english'))\n",
    "\n",
    "# Expand the default stopwords list if necessary\n"
   ]
  },
  {
   "cell_type": "code",
   "execution_count": 16,
   "metadata": {},
   "outputs": [],
   "source": [
    "# Complete the tokenizer function\n",
    "def tokenizer(text):\n",
    "    \"\"\"Tokenizes text.\"\"\"\n",
    "    sw = set(stopwords.words('english'))\n",
    "    regex = re.compile(\"[^a-zA-Z ]\")\n",
    "    re_clean = regex.sub('', text)\n",
    "    words = word_tokenize(text)\n",
    "    words = list(filter(lambda w: w.lower(), words))\n",
    "    words = list(filter(lambda t: t not in punctuation, words))\n",
    "    words = list(filter(lambda t: t.lower() not in text, words))\n",
    "    lemmatizer = WordNetLemmatizer()\n",
    "    tokens = [wnl.lemmatize(word) for word in words]\n",
    "    print(words)\n",
    "    return tokens\n",
    "    \n",
    "    # Remove the punctuation from text\n",
    "\n",
    "   \n",
    "    # Create a tokenized list of the words\n",
    "    \n",
    "    \n",
    "    # Lemmatize words into root words\n",
    "\n",
    "   \n",
    "    # Convert the words to lowercase\n",
    "    \n",
    "    \n",
    "    # Remove the stop words\n",
    "    \n",
    "    \n"
   ]
  },
  {
   "cell_type": "code",
   "execution_count": 17,
   "metadata": {},
   "outputs": [
    {
     "name": "stdout",
     "output_type": "stream",
     "text": [
      "['Tesla', 'CFO', 'Zach', 'Kirkhorn', 'Monday', 'Instead']\n",
      "['Cryptocurrency', 'PayPal', 'Bitcoin', 'Ethereum', 'Bitcoin', 'Cash', 'Litecoin', 'Venmo', 'With']\n",
      "['Cryptocurrency', 'Friday', 'Bitcoin', 'March', 'Bitcoin']\n",
      "[]\n",
      "['copyrightGetty', 'Images', 'captionElon', 'Musk', 'Tesla', 'Tesla', 'Bitcoin']\n",
      "['Earth', 'Day', 'So', 'Jack', 'Dorsey']\n",
      "['Venmo', 'Tuesday', 'Venmo', 'Four']\n",
      "['New', 'York', 'CNN', 'Business', 'Bitcoin', 'Saturday', 'But']\n",
      "['Its', 'Robinhood', 'Christine', 'Brown', 'Robinhoods']\n",
      "['By', 'Reuters', 'Staff', 'Reuters', '-MicroStrategy', 'Inc', 'Monday', 'Shares']\n",
      "['Crusoe']\n",
      "['We', 'Dogecoin', 'DOGE']\n",
      "['By', 'Reuters', 'Staff', 'April', 'Reuters', 'MicroStrategy', 'Inc', 'Monday', 'R…']\n",
      "['Jack', 'Dorsey', 'CEO', 'Twitter', 'Wednesday', '``', \"''\", 'Elon', 'Musk', '``', 'True', '``', 'BBC', '``']\n",
      "['Coinswitch', 'Kuber', 'India', 'Thursday', 'Indi…']\n",
      "['By', 'Reuters', 'Staff', 'FILE', 'PHOTO', 'Tesla', 'Santa', 'Clarita', 'California', 'U.S.', 'October', 'REUTERS/Mike', 'Blake', 'Reuters', 'Tesla', 'Inc']\n",
      "['By', 'Reuters', 'Staff', 'April', 'Reuters', 'Bitcoin', 'Sunday', 'Ether']\n",
      "['By', 'Reuters', 'Staff', 'LONDON', 'April', 'Reuters', 'Bitcoin', 'Tuesday', 'The']\n",
      "['By', 'Reuters', 'Staff', 'FILE', 'PHOTO', 'Bitcoin', 'March', 'REUTERS/Dado', 'Ruvic/Illustration/File', 'Photo', 'LON…']\n",
      "['By', 'Reuters', 'Staff', 'April', 'Reuters', 'Bitcoin', 'Saturday', 'Bitcoin']\n",
      "['Representation', 'Bitcoin', 'April', 'REUTERS/Dado', 'Ruvic/Illustration/File', 'Photo/File', 'PhotoBitcoin']\n",
      "['Bitcoin', 'Marseille', 'France', 'February', 'REUTERS/Eric', 'GaillardBitcoin', 'Friday']\n",
      "['Asian', 'tmsnrt.rs/2zpUAr4', 'Australia', 'NZ', 'South', 'Korea', 'Nikkei', 'Bitcoin', 'Sunday', 'Monday', 'Currencies']\n",
      "['By', 'Reuters', 'Staff', 'FILE', 'PHOTO', 'Dec.', 'REUTERS/Benoit', 'Tessier/Illustration/File', 'Photo', 'Reuters…']\n",
      "['Representations', 'Bitcoin', 'U.S.', 'Dollar', 'May', 'REUTERS/Dado', 'RuvicBitcoin', 'GMT', 'Wednesday']\n",
      "['April', 'This', 'MarketBeatTime', 'Start', 'Buying', 'Bitcoin', 'Again', 'With', 'Bitcoin', 'Bitcoin', 'CRYPTO', 'BTC']\n",
      "['KTS', 'Design/Science', 'Photo', 'Library/Getty', 'Images', 'The']\n",
      "['By', 'Reuters', 'Staff', 'Bitcoin', 'March', 'REUTERS/Dado', 'Ruvic/Illustration', 'Reuters', 'Bitcoin']\n",
      "['Elon', 'Musk', 'Bitcoin', '``', \"''\", 'Tesla', 'The']\n",
      "['Opinions', 'Entrepreneur', 'Last', 'Great', 'Depression']\n",
      "['Bitcoin', 'CNBC', 'Wednesday', 'Crypto', 'NYDIG', 'Fidelity', 'Nati…']\n",
      "['April', 'Opinions', 'Entrepreneur', 'Bitcoin', 'CoinDesk', 'Monday']\n",
      "['TL', 'DR', 'Store', 'DCENT', 'April', 'WALLET14', 'Just']\n",
      "['ETFs', 'Cesc', 'Maymo/Getty', 'Images', 'The', 'ETF', 'North', 'America']\n",
      "['American', 'Coinbase', 'For', 'Coinbase', 'Q1']\n",
      "['Bitcoin', 'Bitcoin', 'Center', 'New', 'York', 'City', 'New', 'York', 'July', 'REUTERS/Brendan', 'McDermidU.S', 'Tuesday', 'Roman', 'Sterlingov']\n",
      "['We', 'Groot', 'SpaceX', 'This', 'Daily', 'Crunch', 'April', 'The', 'Meet', 'Disney', 'Imagineering…']\n",
      "['Coinbase', 'Global', 'Inc', 'Wednesday', 'Heres']\n",
      "['Adds', 'April', 'Reuters', 'Bitcoins', 'ex-Goldman', 'Sachs', 'Raoul…']\n",
      "['By', 'Reuters', 'Staff', 'April', 'Reuters', 'Short-seller', 'Hindenburg', 'Research', 'Tuesday', 'Chinese', 'Ebang', 'International', 'Holdings', 'Inc.', 'Ebang']\n",
      "['Bitcoin', 'March', 'REUTERS/Dado', 'Ruvic/IllustrationBitcoin']\n",
      "['Jun', 'Costa', 'Mesa', 'USA', 'Tight', 'Sean', 'Culkin', 'Los', 'Angeles', 'Chargers', 'Hoag', 'Performance', 'Center', 'Costa', 'Mesa', 'California…']\n",
      "['Bitcoin', 'Friday', 'U.S.', 'President', 'Joe', 'Biden', 'Bitcoin']\n",
      "['Bitcoin', 'BTH', 'Ether', 'ETH', 'Litecoin', 'LTC', 'Bitcoin', 'Cash', 'BCH', 'ATM', 'Vaerdex']\n",
      "['Sunday', 'It']\n",
      "['Bitcoin', 'US', 'Coinbase', 'Global', 'Inc.s', 'U.S.']\n",
      "['April', 'Electric', 'Tesla', 'Bitcoin', 'Wall', 'Street', 'Jour…']\n",
      "['Bitcoin', 'Its', 'U.S.']\n",
      "['Tesla', 'Santa', 'Clarita', 'California', 'U.S.', 'October', 'REUTERS/Mike', 'BlakeTesla', 'Inc', 'TSLA.O', 'Wednesday']\n",
      "['Posted', 'Dow', 'Jones', 'Indices', 'Wall', 'Stre…']\n",
      "['Asian', 'Monday', 'COVID-19']\n",
      "['Sotheby', 'Tuesday', 'Banksy', '``', 'Love', 'Air', \"''\"]\n",
      "['LONDON', 'Reuters', 'HSBC', 'MicroStrategy', 'Inc', 'Reuters']\n",
      "['``', 'How', 'Right']\n",
      "['Cindy', 'Ord/Getty', 'Images', 'Bitcoin', '``', \"''\", 'Fundstrat', 'Tom', 'Lee', 'Wednesday', 'The']\n",
      "['Wednesday', 'Sellers']\n",
      "['First', 'Subsidize', 'Steal', 'PCs', 'If']\n",
      "['Ether', 'April', 'Ether', 'April']\n",
      "['Bitcoin', 'Monday', 'Bit…']\n",
      "['By', 'Reuters', 'Staff', 'Adds', 'EIB', 'SINGAPORE', 'May', 'Reuters', 'Cryptocurrency', 'Monday']\n",
      "['Bitcoin', 'BTH', 'Ether', 'ETH', 'Litecoin', 'LTC', 'Bitcoin', 'Cash', 'BCH', 'ATM', 'Vaerdex']\n",
      "['Toronto-listed', 'Bitcoin', 'Canadian', '3iQ', 'Singapore', 'U.S.', 'Middle', 'East', 'DUBAI', 'April', 'Reute…']\n",
      "['Dado', 'Ruvic/Reuters', 'Securities', 'Commission', 'Wednesday']\n",
      "['Elon', 'Musk', 'Tesla', 'Pool/Getty', 'Images', 'Bitcoin', 'Tuesday', 'Elon', 'Musk', 'Tesla']\n",
      "['Coinbase', 'From', 'Coinbase']\n",
      "['By', 'Reuters', 'Staff', 'Reuters', '-Cryptocurrency', 'Coinbase', 'Global', 'Inc', 'Wednesday']\n",
      "['European', 'Bitcoin', 'Friday', 'U.S.']\n",
      "['Bitcoin', 'January', 'REUTERS/Dado', 'RuvicLondon', 'High', 'Court']\n",
      "['Canadian', '3iQ', 'Bitcoin', 'Fund', 'QBTCu.TO', 'Nasdaq', 'Dubai', 'Middle', 'East']\n",
      "['By', 'Reuters', 'Staff', 'Reuters', 'Short-seller', 'Hindenburg', 'Research', 'Tuesday', 'Ebang', 'International', 'Holdings', 'Inc', 'Chinese']\n",
      "['By', 'Reuters', 'Staff', 'April', 'Reuters', 'Shares', 'Coinbase', 'Global', 'Inc', 'Wednesday']\n",
      "['Bitcoin', 'CoinShares']\n",
      "['Asian', 'tmsnrt.rs/2zpUAr4', 'MSCI', 'ex-Japan', 'Australia', 'NZ', 'Chinese', 'Dollar', 'Oil']\n",
      "['Bitcoin', 'March', 'REUTERS/Dado', 'Ruvic/Illustration/File', 'PhotoYoung', 'British']\n",
      "['February', 'REUTERS/Dado', 'Ruvic/IllustrationBitcoin']\n",
      "['May', 'Reuters', 'Berkshire', 'Hathaway', 'Inc', 'Chairman', 'Warren', 'Buffetts', 'Robinhood', 'But']\n",
      "['German', 'DAX', 'Frankfurt', 'Germany', 'April', 'REUTERS/Staff/File', 'PhotoWorld']\n",
      "['Global', 'Friday', 'Bitcoin', 'U.S.']\n",
      "['By', 'Reuters', 'Staff', 'April', 'Reuters', 'Tesla', 'Inc', 'Wednesday', 'bit.ly/2PtMZ5A', 'Reporting']\n",
      "['Bitcoin', 'March', 'REUTERS/Dado', 'Ruvic/IllustrationThe', 'Dow', 'Jones', 'Indices']\n",
      "['Bitcoin', 'March', 'REUTERS/Dado', 'Ruvic/IllustrationInflows']\n",
      "['Michael', 'Novogratz', 'Galaxy', 'Digital', 'Rick', 'Wilking/Reuters', '``', \"''\", 'Mike', 'Novogratz']\n",
      "['By', 'Reuters', 'Staff', 'FILE', 'PHOTO', 'Ethereum', 'February', 'REUTERS/Dado', 'Ruvic/Illustration', 'SINGAPORE…']\n",
      "['Ethereum', 'February', 'REUTERS/Dado', 'Ruvic/IllustrationCryptocurrency']\n",
      "['NEW', 'YORK', 'Reuters', 'Inflows', 'April']\n",
      "['Dan', 'Held', 'Bitcoin', 'Bitcoin', 'Held']\n",
      "['By', 'Reuters', 'Staff', 'FILE', 'PHOTO', 'Bitcoin', 'March', 'REUTERS/Dado', 'Ruvic/Illustration', 'Reuters', '-The…']\n",
      "['Jakub', 'Porzycki/NurPhoto', 'Getty', 'Images', 'Tokyo-based', 'Nexon', 'Wednesday']\n",
      "['Spanish', 'AI', 'Errors', 'Opinions', 'Entrepreneur']\n",
      "['Opinions', 'Entrepreneur', 'Bitcoin']\n",
      "['Bitcoin', 'March', 'Saturday', 'Sunday', 'Bitstamp']\n",
      "['April', 'Spanish', 'AI', 'Errors', 'Opinions', 'Entrepreneur']\n",
      "['April', 'Spanish', 'AI', 'Errors', 'Every']\n",
      "['Spanish', 'Errors', 'Cryptocurrencies']\n",
      "['LONDON', 'Reuters', 'Coinbase', 'Global', 'Inc', 'U.S.', 'Nasdaq', 'Wednesday']\n",
      "['Reuters', 'Evolving']\n",
      "['HSBC', 'InvestDirect', 'MicroStrategy']\n",
      "['Bitcoin', '``', 'April', \"''\", 'The', 'Street', '``', \"''\", 'Sunday', 'weeks.So']\n",
      "['Mastercard', 'BNY', 'Mellon', 'Thursday', 'XRP', 'Yuriko', 'Nakao/Getty', 'Images']\n",
      "['Personal', 'Finance', 'Insider', 'We', 'American', 'Express']\n"
     ]
    }
   ],
   "source": [
    "# Create a new tokens column for Bitcoin\n",
    "btc_df['tokens']=btc_df.text.apply(tokenizer)"
   ]
  },
  {
   "cell_type": "code",
   "execution_count": 18,
   "metadata": {},
   "outputs": [
    {
     "data": {
      "text/html": [
       "<div>\n",
       "<style scoped>\n",
       "    .dataframe tbody tr th:only-of-type {\n",
       "        vertical-align: middle;\n",
       "    }\n",
       "\n",
       "    .dataframe tbody tr th {\n",
       "        vertical-align: top;\n",
       "    }\n",
       "\n",
       "    .dataframe thead th {\n",
       "        text-align: right;\n",
       "    }\n",
       "</style>\n",
       "<table border=\"1\" class=\"dataframe\">\n",
       "  <thead>\n",
       "    <tr style=\"text-align: right;\">\n",
       "      <th></th>\n",
       "      <th>date</th>\n",
       "      <th>text</th>\n",
       "      <th>compound</th>\n",
       "      <th>positive</th>\n",
       "      <th>negative</th>\n",
       "      <th>neutral</th>\n",
       "      <th>tokens</th>\n",
       "    </tr>\n",
       "  </thead>\n",
       "  <tbody>\n",
       "    <tr>\n",
       "      <th>0</th>\n",
       "      <td>2021-04-27</td>\n",
       "      <td>Tesla’s relationship with bitcoin is not a dal...</td>\n",
       "      <td>0.0000</td>\n",
       "      <td>0.000</td>\n",
       "      <td>0.000</td>\n",
       "      <td>1.000</td>\n",
       "      <td>[Tesla, CFO, Zach, Kirkhorn, Monday, Instead]</td>\n",
       "    </tr>\n",
       "    <tr>\n",
       "      <th>1</th>\n",
       "      <td>2021-04-20</td>\n",
       "      <td>Cryptocurrency continues to gain mainstream ac...</td>\n",
       "      <td>0.7506</td>\n",
       "      <td>0.171</td>\n",
       "      <td>0.000</td>\n",
       "      <td>0.829</td>\n",
       "      <td>[Cryptocurrency, PayPal, Bitcoin, Ethereum, Bi...</td>\n",
       "    </tr>\n",
       "    <tr>\n",
       "      <th>2</th>\n",
       "      <td>2021-04-23</td>\n",
       "      <td>Cryptocurrency prices continued to tumble Frid...</td>\n",
       "      <td>0.0000</td>\n",
       "      <td>0.000</td>\n",
       "      <td>0.000</td>\n",
       "      <td>1.000</td>\n",
       "      <td>[Cryptocurrency, Friday, Bitcoin, March, Bitcoin]</td>\n",
       "    </tr>\n",
       "    <tr>\n",
       "      <th>3</th>\n",
       "      <td>2021-04-13</td>\n",
       "      <td>The crypto industry as a whole has seen a mome...</td>\n",
       "      <td>0.6124</td>\n",
       "      <td>0.135</td>\n",
       "      <td>0.000</td>\n",
       "      <td>0.865</td>\n",
       "      <td>[]</td>\n",
       "    </tr>\n",
       "    <tr>\n",
       "      <th>4</th>\n",
       "      <td>2021-04-27</td>\n",
       "      <td>image copyrightGetty Images\\r\\nimage captionEl...</td>\n",
       "      <td>0.7003</td>\n",
       "      <td>0.167</td>\n",
       "      <td>0.000</td>\n",
       "      <td>0.833</td>\n",
       "      <td>[copyrightGetty, Images, captionElon, Musk, Te...</td>\n",
       "    </tr>\n",
       "    <tr>\n",
       "      <th>...</th>\n",
       "      <td>...</td>\n",
       "      <td>...</td>\n",
       "      <td>...</td>\n",
       "      <td>...</td>\n",
       "      <td>...</td>\n",
       "      <td>...</td>\n",
       "      <td>...</td>\n",
       "    </tr>\n",
       "    <tr>\n",
       "      <th>95</th>\n",
       "      <td>2021-04-27</td>\n",
       "      <td>(Reuters) - Evolving rules, environmental conc...</td>\n",
       "      <td>-0.4767</td>\n",
       "      <td>0.052</td>\n",
       "      <td>0.148</td>\n",
       "      <td>0.800</td>\n",
       "      <td>[Reuters, Evolving]</td>\n",
       "    </tr>\n",
       "    <tr>\n",
       "      <th>96</th>\n",
       "      <td>2021-04-12</td>\n",
       "      <td>The bank will not facilitate the buying or exc...</td>\n",
       "      <td>0.0000</td>\n",
       "      <td>0.000</td>\n",
       "      <td>0.000</td>\n",
       "      <td>1.000</td>\n",
       "      <td>[HSBC, InvestDirect, MicroStrategy]</td>\n",
       "    </tr>\n",
       "    <tr>\n",
       "      <th>97</th>\n",
       "      <td>2021-04-25</td>\n",
       "      <td>Bitcoin \"fell dramatically in late April,\" wri...</td>\n",
       "      <td>-0.2732</td>\n",
       "      <td>0.000</td>\n",
       "      <td>0.058</td>\n",
       "      <td>0.942</td>\n",
       "      <td>[Bitcoin, ``, April, '', The, Street, ``, '', ...</td>\n",
       "    </tr>\n",
       "    <tr>\n",
       "      <th>98</th>\n",
       "      <td>2021-04-28</td>\n",
       "      <td>Mastercard and BNY Mellon warmed to bitcoin on...</td>\n",
       "      <td>0.2960</td>\n",
       "      <td>0.148</td>\n",
       "      <td>0.083</td>\n",
       "      <td>0.769</td>\n",
       "      <td>[Mastercard, BNY, Mellon, Thursday, XRP, Yurik...</td>\n",
       "    </tr>\n",
       "    <tr>\n",
       "      <th>99</th>\n",
       "      <td>2021-04-30</td>\n",
       "      <td>Personal Finance Insider writes about products...</td>\n",
       "      <td>0.5346</td>\n",
       "      <td>0.158</td>\n",
       "      <td>0.000</td>\n",
       "      <td>0.842</td>\n",
       "      <td>[Personal, Finance, Insider, We, American, Exp...</td>\n",
       "    </tr>\n",
       "  </tbody>\n",
       "</table>\n",
       "<p>100 rows × 7 columns</p>\n",
       "</div>"
      ],
      "text/plain": [
       "          date                                               text  compound  \\\n",
       "0   2021-04-27  Tesla’s relationship with bitcoin is not a dal...    0.0000   \n",
       "1   2021-04-20  Cryptocurrency continues to gain mainstream ac...    0.7506   \n",
       "2   2021-04-23  Cryptocurrency prices continued to tumble Frid...    0.0000   \n",
       "3   2021-04-13  The crypto industry as a whole has seen a mome...    0.6124   \n",
       "4   2021-04-27  image copyrightGetty Images\\r\\nimage captionEl...    0.7003   \n",
       "..         ...                                                ...       ...   \n",
       "95  2021-04-27  (Reuters) - Evolving rules, environmental conc...   -0.4767   \n",
       "96  2021-04-12  The bank will not facilitate the buying or exc...    0.0000   \n",
       "97  2021-04-25  Bitcoin \"fell dramatically in late April,\" wri...   -0.2732   \n",
       "98  2021-04-28  Mastercard and BNY Mellon warmed to bitcoin on...    0.2960   \n",
       "99  2021-04-30  Personal Finance Insider writes about products...    0.5346   \n",
       "\n",
       "    positive  negative  neutral  \\\n",
       "0      0.000     0.000    1.000   \n",
       "1      0.171     0.000    0.829   \n",
       "2      0.000     0.000    1.000   \n",
       "3      0.135     0.000    0.865   \n",
       "4      0.167     0.000    0.833   \n",
       "..       ...       ...      ...   \n",
       "95     0.052     0.148    0.800   \n",
       "96     0.000     0.000    1.000   \n",
       "97     0.000     0.058    0.942   \n",
       "98     0.148     0.083    0.769   \n",
       "99     0.158     0.000    0.842   \n",
       "\n",
       "                                               tokens  \n",
       "0       [Tesla, CFO, Zach, Kirkhorn, Monday, Instead]  \n",
       "1   [Cryptocurrency, PayPal, Bitcoin, Ethereum, Bi...  \n",
       "2   [Cryptocurrency, Friday, Bitcoin, March, Bitcoin]  \n",
       "3                                                  []  \n",
       "4   [copyrightGetty, Images, captionElon, Musk, Te...  \n",
       "..                                                ...  \n",
       "95                                [Reuters, Evolving]  \n",
       "96                [HSBC, InvestDirect, MicroStrategy]  \n",
       "97  [Bitcoin, ``, April, '', The, Street, ``, '', ...  \n",
       "98  [Mastercard, BNY, Mellon, Thursday, XRP, Yurik...  \n",
       "99  [Personal, Finance, Insider, We, American, Exp...  \n",
       "\n",
       "[100 rows x 7 columns]"
      ]
     },
     "execution_count": 18,
     "metadata": {},
     "output_type": "execute_result"
    }
   ],
   "source": [
    "btc_df"
   ]
  },
  {
   "cell_type": "code",
   "execution_count": null,
   "metadata": {},
   "outputs": [],
   "source": []
  },
  {
   "cell_type": "code",
   "execution_count": 19,
   "metadata": {},
   "outputs": [
    {
     "name": "stdout",
     "output_type": "stream",
     "text": [
      "['Their', 'Detractors', 'North', 'Carolina', 'Attorney', 'General', 'Josh', 'Stein', 'But', 'Leda', 'Health', 'Madison', 'Campbell', 'Liesel', 'Vaidya']\n",
      "['Cryptocurrency', 'PayPal', 'Bitcoin', 'Ethereum', 'Bitcoin', 'Cash', 'Litecoin', 'Venmo', 'With']\n",
      "['Venmo', 'Tuesday', 'Venmo', 'Four']\n",
      "['New', 'York', 'CNN', 'Business', 'Bitcoin', 'Saturday', 'But']\n",
      "['CryptoPunks', 'NFT', 'Meebits', '3D']\n",
      "['ConsenSys', 'Ethereum', 'J.P.', 'Morgan', 'Mastercard', 'UBS', 'AG']\n",
      "['By', 'Reuters', 'Staff', 'FILE', 'PHOTO', 'Ethereum', 'February', 'REUTERS/Dado', 'Ruvic/Illustration', 'SINGAPORE…']\n",
      "['Ethereum', 'February', 'REUTERS/Dado', 'Ruvic/IllustrationCryptocurrency']\n",
      "['Its', 'Robinhood', 'Christine', 'Brown', 'Robinhoods']\n",
      "['This', 'StockMarketUS', 'Edge', 'Monday', 'Morning', 'U.S.', 'Monday']\n",
      "['Spanish', 'AI', 'Errors', 'Cryptocurrencies', 'Vitalik', 'Buterin']\n",
      "['Non-fungible', 'NFTs', 'Topps', 'NFT-based']\n",
      "['By', 'Reuters', 'Staff', 'SINGAPORE', 'May', 'Reuters', 'Cryptocurrency', 'Monday', 'Europe…']\n",
      "['Ethereum', 'February', 'REUTERS/Dado', 'Ruvic/IllustrationCryptocurrency']\n",
      "['Posted', 'Dow', 'Jones', 'Indices', 'Wall', 'Stre…']\n",
      "['By', 'Reuters', 'Staff', 'Adds', 'EIB', 'SINGAPORE', 'May', 'Reuters', 'Cryptocurrency', 'Monday']\n",
      "['By', 'Reuters', 'Staff', 'FILE', 'PHOTO', 'Ethereum', 'February', 'REUTERS/Dado', 'Ruvic/Illustration', 'SINGAPORE…']\n",
      "['Sotheby', 'Tuesday', 'Banksy', '``', 'Love', 'Air', \"''\"]\n",
      "['April', 'Spanish', 'AI', 'Errors', 'After', 'Bitcoin']\n",
      "['April', 'Opinions', 'Entrepreneur']\n",
      "['Cryptocurrency', 'Friday', 'Bitcoin', 'March', 'Bitcoin']\n",
      "['February', 'REUTERS/Dado', 'Ruvic/IllustrationBitcoin']\n",
      "['Bitcoin', 'March', 'REUTERS/Dado', 'Ruvic/IllustrationThe', 'Dow', 'Jones', 'Indices']\n",
      "['Spanish', 'Errors', 'Cryptocurrencies']\n",
      "['Cryptocurrency', 'Ethereum', 'Monday', 'T…']\n",
      "['CryptocurrencyEthereum', 'Monday', 'Bitcoin', 'Reuters', 'Ether', 'Ethereum']\n",
      "['By', 'Reuters', 'Staff', 'May', 'Reuters', 'The', 'Dow', 'Jones', 'Global', 'Inc', 'Tuesday', 'T…']\n",
      "['Tuesday', 'Coinbase', 'Berlin', 'April', 'Eth…']\n",
      "['Last', 'Beeple', 'NFT']\n",
      "['Many', 'Ethereum', 'SOPA', 'Images/Getty', 'Images', 'Ether', 'Thursday', 'Coinbase']\n",
      "['MLB', 'NBAs', 'Top', 'Shot', 'NFT', 'Major', 'League', 'NFT', 'Topps']\n",
      "['Dado', 'Ruvic/Reuters', 'Cryptocurrency', 'Ethereum', 'Monday']\n",
      "['By', 'Reuters', 'Staff', 'FILE', 'PHOTO', 'Bitcoin', 'March', 'REUTERS/Dado', 'Ruvic/Illustration', 'Reuters', '-The…']\n",
      "['Longevica']\n",
      "['Dado', 'Ruvic/Reuters', 'Monday']\n",
      "['artsPublished', 'April', 'This', 'Newspaper', 'CNN', 'Style', 'Scam']\n",
      "['Yuriko', 'Nakao/Getty', 'Images', 'Investors', 'Wall', 'Street', 'Dow', 'Jones', 'Tuesday']\n",
      "['Lately', 'Ive', 'ReMarkable', 'Im', 'Apple', 'Amazon', 'iPad']\n",
      "['By', 'Reuters', 'Staff', 'April', 'Reuters', 'Bitcoin', 'Sunday', 'Ether']\n",
      "['TL', 'DR', 'Store', 'DCENT', 'April', 'WALLET14', 'Just']\n",
      "['NFT', '``', 'Disaster', 'Girl', \"''\", 'NFT', 'Foundation', 'Even', 'Disaster', \"Girl'…\"]\n",
      "['Getty', 'Images/John', 'Phillips', 'Ethereum', 'Vitalik', 'Buterin']\n",
      "['Dado', 'Ruvic/Reuters', 'Ether', 'Thursday']\n",
      "['By', 'Reuters', 'Staff', 'April', 'Reuters', 'Bitcoin', 'Saturday', 'Bitcoin']\n",
      "['Preamble', 'kWh']\n",
      "['Mastercard', 'BNY', 'Mellon', 'Thursday', 'XRP', 'Yuriko', 'Nakao/Getty', 'Images']\n",
      "['April', 'StockNewsOne', 'Bitcoin', 'Ethereum', 'Dogecoin', 'Coinba…']\n",
      "['Opinions', 'Entrepreneur', 'Decentralized', 'DeFi', 'Last']\n",
      "['Updates', 'April', 'Reuters', 'The', 'European', 'Investment', 'Bank', 'EIB', 'Reuters']\n",
      "['Bitcoin', 'Marseille', 'France', 'February', 'REUTERS/Eric', 'GaillardBitcoin', 'Friday']\n",
      "['Representation', 'Bitcoin', 'April', 'REUTERS/Dado', 'Ruvic/Illustration/File', 'Photo/File', 'PhotoBitcoin']\n",
      "['Representations', 'Bitcoin', 'U.S.', 'Dollar', 'May', 'REUTERS/Dado', 'RuvicBitcoin', 'GMT', 'Wednesday']\n",
      "['Staking', 'This']\n",
      "['Thursday', 'U.S.', 'Treasury']\n",
      "['Coinbases', 'Regardless']\n",
      "['Thanks', 'Bitcoin', 'Bitcoin']\n",
      "['While']\n",
      "['April', 'Opinions', 'Entrepreneur', 'Bitcoin', 'CoinDesk', 'Monday']\n",
      "['Bitcoin', 'March', 'REUTERS/Dado', 'Ruvic/IllustrationInflows']\n",
      "['Bitcoin', 'CoinShares']\n",
      "['NEW', 'YORK', 'Reuters', 'Inflows', 'April']\n",
      "['Bitcoin', 'Monday', 'Bit…']\n",
      "['Annabelle', 'Huang', 'Deutsche', 'Bank', 'Nomura', 'New', 'Y…']\n",
      "['Opinions', 'Entrepreneur', 'Bitcoin']\n",
      "['C++', 'Ethereum', 'Follow', 'Example']\n",
      "['Reuters', 'Brendan', 'McDermid', 'Dow', 'Thursday']\n",
      "['For', 'Venmo']\n",
      "['Based', 'Saving']\n",
      "['Ethereum', 'Kraken', 'Kraken', 'Pete', 'Humiston']\n",
      "['Ripple', 'Chris', 'Larsen', 'BankXRP/YouTube', 'Chris', 'Larsen', 'Ripp…']\n",
      "['Mark', 'Cuban', 'Brian', 'Snyder/Reuters', 'Mark', 'Cuban', 'Netflix', 'Amazon']\n",
      "['Ethereum', 'March', 'Kraken', 'Dado', 'Ruvic/Reuters', 'Ethereum']\n",
      "['Venmo', 'Bitcoin', 'Ethereum']\n",
      "['Bitcoin', 'March', 'REUTERS/Dado', 'Ruvic/IllustrationBitcoin']\n",
      "['Adds', 'April', 'Reuters', 'Bitcoins', 'ex-Goldman', 'Sachs', 'Raoul…']\n",
      "['USD', 'JPY', 'KRW', 'N.', 'Korea', 'Ethereum', 'Graphic', 'World', 'FX', 'tmsnrt.rs/2RBWI5E', 'LONDON', 'May', 'Reuters']\n",
      "['In', 'Edward', 'Snowden', 'NSA.', 'NFT', 'Freedom', 'Press', 'Foundation.', 'An', 'NFT', 'Edward', 'Snowden']\n",
      "['Personal', 'Finance', 'Insider', 'We', 'American', 'Express']\n",
      "['Melinda', 'Gates', 'Bill', 'Gates', 'Monday', 'According', 'Melinda', 'King', 'County', 'Washington', 'PEOPLE']\n",
      "['Sunday', 'Sunday', 'ETHUSD', 'Just']\n",
      "['NFTs']\n",
      "['April', 'NFTs', 'Though', 'NFTs']\n",
      "['By', 'Reuters', 'Staff', 'April', 'Reuters', 'Blockchain', 'ConsenSys', 'Tuesday', 'J.P.', 'Morgan', 'Mastercard', 'I…']\n",
      "['captionZoë', 'Roth', 'Dave', '``', 'Disaster', 'Girl', \"''\", 'Zoë', 'Ro…']\n",
      "['April', 'Opinions', 'Entrepreneur', 'French', 'Marcel', 'Duchamp']\n",
      "['April', 'This', 'MarketBeatTime', 'Start', 'Buying', 'Bitcoin', 'Again', 'With', 'Bitcoin', 'Bitcoin', 'CRYPTO', 'BTC']\n",
      "['April', 'Spanish', 'AI', 'Errors', 'Were', 'Maybe']\n",
      "['Star', 'NFL', 'Trevor', 'Lawrence', 'Gatorade', 'Adidas', 'ADS']\n",
      "['April', 'Opinions', 'Entrepreneur', 'As', 'Bitcoin', 'Ethereum', 'FOM…']\n",
      "['Wednesday', 'Sellers']\n",
      "['Venmo', 'Tuesday', 'The', 'Tuesday']\n",
      "['NFTs', 'Average', 'February', 'Bloomberg…']\n",
      "['Reuters', 'Ethereum', 'Walmart', 'Tuesday']\n",
      "['TOKYO', 'Reuters', 'U.S.', 'Friday', 'Federal', 'Reserve']\n",
      "['Golden', 'State', 'Warriors', 'NFT', 'Tuesday']\n",
      "['Yuriko', 'Nakao/Getty', 'Images', 'Wall', 'Street', 'Bets', 'Discus…']\n",
      "['In', 'Venmo', 'Igor', 'Golovniov/SOPA', 'Images/LightRocket', 'Getty', 'Images', 'PayPal', 'Venmo']\n",
      "['U.S.', 'Seoul', 'February', 'REUTERS/Lee', 'Jae-WonThe', 'U.S.']\n",
      "['U.S.', 'Friday', 'Federal', 'Reserve']\n",
      "['German', 'PayPal', 'Europarc', 'Dreilinden', 'Berlin', 'Kleinmachnow', 'Germany', 'August', 'REUTERS/Fabrizio', 'BenschVe…']\n"
     ]
    }
   ],
   "source": [
    "# Create a new tokens column for Ethereum\n",
    "eth_df['tokens']=eth_df.text.apply(tokenizer)"
   ]
  },
  {
   "cell_type": "code",
   "execution_count": 20,
   "metadata": {},
   "outputs": [
    {
     "data": {
      "text/html": [
       "<div>\n",
       "<style scoped>\n",
       "    .dataframe tbody tr th:only-of-type {\n",
       "        vertical-align: middle;\n",
       "    }\n",
       "\n",
       "    .dataframe tbody tr th {\n",
       "        vertical-align: top;\n",
       "    }\n",
       "\n",
       "    .dataframe thead th {\n",
       "        text-align: right;\n",
       "    }\n",
       "</style>\n",
       "<table border=\"1\" class=\"dataframe\">\n",
       "  <thead>\n",
       "    <tr style=\"text-align: right;\">\n",
       "      <th></th>\n",
       "      <th>date</th>\n",
       "      <th>text</th>\n",
       "      <th>compound</th>\n",
       "      <th>positive</th>\n",
       "      <th>negative</th>\n",
       "      <th>neutral</th>\n",
       "      <th>tokens</th>\n",
       "    </tr>\n",
       "  </thead>\n",
       "  <tbody>\n",
       "    <tr>\n",
       "      <th>0</th>\n",
       "      <td>2021-05-04</td>\n",
       "      <td>Their investors call them disruptive innovator...</td>\n",
       "      <td>-0.4019</td>\n",
       "      <td>0.072</td>\n",
       "      <td>0.150</td>\n",
       "      <td>0.778</td>\n",
       "      <td>[Their, Detractors, North, Carolina, Attorney,...</td>\n",
       "    </tr>\n",
       "    <tr>\n",
       "      <th>1</th>\n",
       "      <td>2021-04-20</td>\n",
       "      <td>Cryptocurrency continues to gain mainstream ac...</td>\n",
       "      <td>0.7506</td>\n",
       "      <td>0.171</td>\n",
       "      <td>0.000</td>\n",
       "      <td>0.829</td>\n",
       "      <td>[Cryptocurrency, PayPal, Bitcoin, Ethereum, Bi...</td>\n",
       "    </tr>\n",
       "    <tr>\n",
       "      <th>2</th>\n",
       "      <td>2021-04-20</td>\n",
       "      <td>Venmo is jumping aboard the cryptocurrency ban...</td>\n",
       "      <td>0.0258</td>\n",
       "      <td>0.034</td>\n",
       "      <td>0.000</td>\n",
       "      <td>0.966</td>\n",
       "      <td>[Venmo, Tuesday, Venmo, Four]</td>\n",
       "    </tr>\n",
       "    <tr>\n",
       "      <th>3</th>\n",
       "      <td>2021-05-01</td>\n",
       "      <td>New York (CNN Business)Bitcoin prices continue...</td>\n",
       "      <td>0.0000</td>\n",
       "      <td>0.000</td>\n",
       "      <td>0.000</td>\n",
       "      <td>1.000</td>\n",
       "      <td>[New, York, CNN, Business, Bitcoin, Saturday, ...</td>\n",
       "    </tr>\n",
       "    <tr>\n",
       "      <th>4</th>\n",
       "      <td>2021-05-03</td>\n",
       "      <td>The creators behind CryptoPunks, one of the mo...</td>\n",
       "      <td>0.4754</td>\n",
       "      <td>0.091</td>\n",
       "      <td>0.000</td>\n",
       "      <td>0.909</td>\n",
       "      <td>[CryptoPunks, NFT, Meebits, 3D]</td>\n",
       "    </tr>\n",
       "    <tr>\n",
       "      <th>...</th>\n",
       "      <td>...</td>\n",
       "      <td>...</td>\n",
       "      <td>...</td>\n",
       "      <td>...</td>\n",
       "      <td>...</td>\n",
       "      <td>...</td>\n",
       "      <td>...</td>\n",
       "    </tr>\n",
       "    <tr>\n",
       "      <th>95</th>\n",
       "      <td>2021-04-19</td>\n",
       "      <td>Yuriko Nakao/Getty Images\\r\\nWall Street Bets ...</td>\n",
       "      <td>0.6369</td>\n",
       "      <td>0.157</td>\n",
       "      <td>0.000</td>\n",
       "      <td>0.843</td>\n",
       "      <td>[Yuriko, Nakao/Getty, Images, Wall, Street, Be...</td>\n",
       "    </tr>\n",
       "    <tr>\n",
       "      <th>96</th>\n",
       "      <td>2021-04-20</td>\n",
       "      <td>In this photo illustration a Venmo mobile paym...</td>\n",
       "      <td>0.0000</td>\n",
       "      <td>0.000</td>\n",
       "      <td>0.000</td>\n",
       "      <td>1.000</td>\n",
       "      <td>[In, Venmo, Igor, Golovniov/SOPA, Images/Light...</td>\n",
       "    </tr>\n",
       "    <tr>\n",
       "      <th>97</th>\n",
       "      <td>2021-04-30</td>\n",
       "      <td>U.S. one hundred dollar notes are seen in this...</td>\n",
       "      <td>0.2263</td>\n",
       "      <td>0.058</td>\n",
       "      <td>0.000</td>\n",
       "      <td>0.942</td>\n",
       "      <td>[U.S., Seoul, February, REUTERS/Lee, Jae-WonTh...</td>\n",
       "    </tr>\n",
       "    <tr>\n",
       "      <th>98</th>\n",
       "      <td>2021-04-30</td>\n",
       "      <td>The U.S. dollar skidded toward a fourth straig...</td>\n",
       "      <td>0.4404</td>\n",
       "      <td>0.129</td>\n",
       "      <td>0.053</td>\n",
       "      <td>0.818</td>\n",
       "      <td>[U.S., Friday, Federal, Reserve]</td>\n",
       "    </tr>\n",
       "    <tr>\n",
       "      <th>99</th>\n",
       "      <td>2021-04-20</td>\n",
       "      <td>The German headquarters of the electronic paym...</td>\n",
       "      <td>0.0000</td>\n",
       "      <td>0.000</td>\n",
       "      <td>0.000</td>\n",
       "      <td>1.000</td>\n",
       "      <td>[German, PayPal, Europarc, Dreilinden, Berlin,...</td>\n",
       "    </tr>\n",
       "  </tbody>\n",
       "</table>\n",
       "<p>100 rows × 7 columns</p>\n",
       "</div>"
      ],
      "text/plain": [
       "          date                                               text  compound  \\\n",
       "0   2021-05-04  Their investors call them disruptive innovator...   -0.4019   \n",
       "1   2021-04-20  Cryptocurrency continues to gain mainstream ac...    0.7506   \n",
       "2   2021-04-20  Venmo is jumping aboard the cryptocurrency ban...    0.0258   \n",
       "3   2021-05-01  New York (CNN Business)Bitcoin prices continue...    0.0000   \n",
       "4   2021-05-03  The creators behind CryptoPunks, one of the mo...    0.4754   \n",
       "..         ...                                                ...       ...   \n",
       "95  2021-04-19  Yuriko Nakao/Getty Images\\r\\nWall Street Bets ...    0.6369   \n",
       "96  2021-04-20  In this photo illustration a Venmo mobile paym...    0.0000   \n",
       "97  2021-04-30  U.S. one hundred dollar notes are seen in this...    0.2263   \n",
       "98  2021-04-30  The U.S. dollar skidded toward a fourth straig...    0.4404   \n",
       "99  2021-04-20  The German headquarters of the electronic paym...    0.0000   \n",
       "\n",
       "    positive  negative  neutral  \\\n",
       "0      0.072     0.150    0.778   \n",
       "1      0.171     0.000    0.829   \n",
       "2      0.034     0.000    0.966   \n",
       "3      0.000     0.000    1.000   \n",
       "4      0.091     0.000    0.909   \n",
       "..       ...       ...      ...   \n",
       "95     0.157     0.000    0.843   \n",
       "96     0.000     0.000    1.000   \n",
       "97     0.058     0.000    0.942   \n",
       "98     0.129     0.053    0.818   \n",
       "99     0.000     0.000    1.000   \n",
       "\n",
       "                                               tokens  \n",
       "0   [Their, Detractors, North, Carolina, Attorney,...  \n",
       "1   [Cryptocurrency, PayPal, Bitcoin, Ethereum, Bi...  \n",
       "2                       [Venmo, Tuesday, Venmo, Four]  \n",
       "3   [New, York, CNN, Business, Bitcoin, Saturday, ...  \n",
       "4                     [CryptoPunks, NFT, Meebits, 3D]  \n",
       "..                                                ...  \n",
       "95  [Yuriko, Nakao/Getty, Images, Wall, Street, Be...  \n",
       "96  [In, Venmo, Igor, Golovniov/SOPA, Images/Light...  \n",
       "97  [U.S., Seoul, February, REUTERS/Lee, Jae-WonTh...  \n",
       "98                   [U.S., Friday, Federal, Reserve]  \n",
       "99  [German, PayPal, Europarc, Dreilinden, Berlin,...  \n",
       "\n",
       "[100 rows x 7 columns]"
      ]
     },
     "execution_count": 20,
     "metadata": {},
     "output_type": "execute_result"
    }
   ],
   "source": [
    "eth_df"
   ]
  },
  {
   "cell_type": "markdown",
   "metadata": {},
   "source": [
    "---"
   ]
  },
  {
   "cell_type": "markdown",
   "metadata": {},
   "source": [
    "### NGrams and Frequency Analysis\n",
    "\n",
    "In this section you will look at the ngrams and word frequency for each coin. \n",
    "\n",
    "1. Use NLTK to produce the n-grams for N = 2. \n",
    "2. List the top 10 words for each coin. "
   ]
  },
  {
   "cell_type": "code",
   "execution_count": 21,
   "metadata": {},
   "outputs": [],
   "source": [
    "from collections import Counter\n",
    "from nltk import ngrams"
   ]
  },
  {
   "cell_type": "code",
   "execution_count": 25,
   "metadata": {},
   "outputs": [
    {
     "name": "stdout",
     "output_type": "stream",
     "text": [
      "['Tesla', 'CFO', 'Zach', 'Kirkhorn', 'Monday', 'PayPal', 'Litecoin', 'Venmo', 'Friday', 'copyrightGetty', 'Images', 'captionElon', 'Musk', 'Tesla', 'Tesla', 'Earth', 'Jack', 'Dorsey', 'Venmo', 'Tuesday', 'Venmo', 'Four', 'York', 'CNN', 'Business', 'Saturday', 'Robinhood', 'Christine', 'Brown', 'Robinhoods', 'Reuters', 'Staff', 'Reuters', '-MicroStrategy', 'Monday', 'Crusoe', 'Dogecoin', 'DOGE', 'Reuters', 'Staff', 'April', 'Reuters', 'MicroStrategy', 'Monday', 'Jack', 'Dorsey', 'CEO', 'Twitter', 'Wednesday', '``', \"''\", 'Elon', 'Musk', '``', 'True', '``', 'BBC', '``', 'Coinswitch', 'Kuber', 'India', 'Thursday', 'Indi…', 'Reuters', 'Staff', 'FILE', 'PHOTO', 'Tesla', 'Santa', 'Clarita', 'California', 'U.S.', 'October', 'REUTERS/Mike', 'Blake', 'Reuters', 'Tesla', 'Reuters', 'Staff', 'April', 'Reuters', 'Sunday', 'Reuters', 'Staff', 'LONDON', 'April', 'Reuters', 'Tuesday', 'Reuters', 'Staff', 'FILE', 'PHOTO', 'REUTERS/Dado', 'Ruvic/Illustration/File', 'Photo', 'LON…', 'Reuters', 'Staff', 'April', 'Reuters', 'Saturday', 'April', 'REUTERS/Dado', 'Ruvic/Illustration/File', 'Photo/File', 'PhotoBitcoin', 'Marseille', 'France', 'February', 'REUTERS/Eric', 'GaillardBitcoin', 'Friday', 'Asian', 'tmsnrt.rs/2zpUAr4', 'Australia', 'NZ', 'South', 'Korea', 'Nikkei', 'Sunday', 'Monday', 'Reuters', 'Staff', 'FILE', 'PHOTO', 'Dec.', 'REUTERS/Benoit', 'Tessier/Illustration/File', 'Photo', 'Reuters…', 'Representations', 'U.S.', 'Dollar', 'REUTERS/Dado', 'RuvicBitcoin', 'GMT', 'Wednesday', 'April', 'MarketBeatTime', 'Again', 'BTC', 'KTS', 'Design/Science', 'Photo', 'Library/Getty', 'Images', 'Reuters', 'Staff', 'REUTERS/Dado', 'Ruvic/Illustration', 'Reuters', 'Elon', 'Musk', '``', \"''\", 'Tesla', 'Opinions', 'Entrepreneur', 'Great', 'Depression', 'CNBC', 'Wednesday', 'NYDIG', 'Fidelity', 'Nati…', 'April', 'Opinions', 'Entrepreneur', 'CoinDesk', 'Monday', 'DCENT', 'April', 'WALLET14', 'ETFs', 'Cesc', 'Maymo/Getty', 'Images', 'ETF', 'North', 'America', 'American', 'Coinbase', 'Coinbase', 'Q1', 'Center', 'York', 'City', 'York', 'July', 'REUTERS/Brendan', 'McDermidU.S', 'Tuesday', 'Roman', 'Sterlingov', 'Groot', 'SpaceX', 'Daily', 'Crunch', 'April', 'Disney', 'Imagineering…', 'Coinbase', 'Global', 'Wednesday', 'Heres', 'April', 'Reuters', 'Bitcoins', 'ex-Goldman', 'Sachs', 'Raoul…', 'Reuters', 'Staff', 'April', 'Reuters', 'Short-seller', 'Hindenburg', 'Research', 'Tuesday', 'Chinese', 'Ebang', 'International', 'Holdings', 'Inc.', 'Ebang', 'REUTERS/Dado', 'Ruvic/IllustrationBitcoin', 'Jun', 'Costa', 'Mesa', 'Tight', 'Sean', 'Culkin', 'Angeles', 'Chargers', 'Hoag', 'Center', 'Costa', 'Mesa', 'California…', 'Friday', 'U.S.', 'President', 'Joe', 'Biden', 'BTH', 'Litecoin', 'LTC', 'BCH', 'ATM', 'Vaerdex', 'Sunday', 'Coinbase', 'Global', 'Inc.s', 'U.S.', 'April', 'Tesla', 'Street', 'Jour…', 'U.S.', 'Tesla', 'Santa', 'Clarita', 'California', 'U.S.', 'October', 'REUTERS/Mike', 'BlakeTesla', 'TSLA.O', 'Wednesday', 'Jones', 'Indices', 'Stre…', 'Asian', 'Monday', 'COVID-19', 'Sotheby', 'Tuesday', 'Banksy', '``', 'Love', \"''\", 'LONDON', 'Reuters', 'HSBC', 'MicroStrategy', 'Reuters', '``', 'Cindy', 'Ord/Getty', 'Images', '``', \"''\", 'Fundstrat', 'Lee', 'Wednesday', 'Wednesday', 'Sellers', 'Subsidize', 'Steal', 'PCs', 'April', 'April', 'Monday', 'Bit…', 'Reuters', 'Staff', 'EIB', 'SINGAPORE', 'Reuters', 'Monday', 'BTH', 'Litecoin', 'LTC', 'BCH', 'ATM', 'Vaerdex', 'Toronto-listed', 'Canadian', '3iQ', 'Singapore', 'U.S.', 'Middle', 'DUBAI', 'April', 'Reute…', 'Dado', 'Ruvic/Reuters', 'Securities', 'Wednesday', 'Elon', 'Musk', 'Tesla', 'Pool/Getty', 'Images', 'Tuesday', 'Elon', 'Musk', 'Tesla', 'Coinbase', 'Coinbase', 'Reuters', 'Staff', 'Reuters', '-Cryptocurrency', 'Coinbase', 'Global', 'Wednesday', 'European', 'Friday', 'U.S.', 'January', 'REUTERS/Dado', 'RuvicLondon', 'Court', 'Canadian', '3iQ', 'QBTCu.TO', 'Nasdaq', 'Dubai', 'Middle', 'Reuters', 'Staff', 'Reuters', 'Short-seller', 'Hindenburg', 'Research', 'Tuesday', 'Ebang', 'International', 'Holdings', 'Chinese', 'Reuters', 'Staff', 'April', 'Reuters', 'Coinbase', 'Global', 'Wednesday', 'CoinShares', 'Asian', 'tmsnrt.rs/2zpUAr4', 'MSCI', 'ex-Japan', 'Australia', 'NZ', 'Chinese', 'Dollar', 'Oil', 'REUTERS/Dado', 'Ruvic/Illustration/File', 'PhotoYoung', 'British', 'February', 'REUTERS/Dado', 'Ruvic/IllustrationBitcoin', 'Reuters', 'Berkshire', 'Hathaway', 'Chairman', 'Warren', 'Buffetts', 'Robinhood', 'German', 'DAX', 'Frankfurt', 'Germany', 'April', 'REUTERS/Staff/File', 'PhotoWorld', 'Global', 'Friday', 'U.S.', 'Reuters', 'Staff', 'April', 'Reuters', 'Tesla', 'Wednesday', 'bit.ly/2PtMZ5A', 'Reporting', 'REUTERS/Dado', 'Ruvic/IllustrationThe', 'Jones', 'Indices', 'REUTERS/Dado', 'Ruvic/IllustrationInflows', 'Michael', 'Novogratz', 'Galaxy', 'Wilking/Reuters', '``', \"''\", 'Mike', 'Novogratz', 'Reuters', 'Staff', 'FILE', 'PHOTO', 'February', 'REUTERS/Dado', 'Ruvic/Illustration', 'SINGAPORE…', 'February', 'REUTERS/Dado', 'Ruvic/IllustrationCryptocurrency', 'YORK', 'Reuters', 'Inflows', 'April', 'Held', 'Held', 'Reuters', 'Staff', 'FILE', 'PHOTO', 'REUTERS/Dado', 'Ruvic/Illustration', 'Reuters', '-The…', 'Jakub', 'Porzycki/NurPhoto', 'Getty', 'Images', 'Tokyo-based', 'Nexon', 'Wednesday', 'Spanish', 'Errors', 'Opinions', 'Entrepreneur', 'Opinions', 'Entrepreneur', 'Saturday', 'Sunday', 'Bitstamp', 'April', 'Spanish', 'Errors', 'Opinions', 'Entrepreneur', 'April', 'Spanish', 'Errors', 'Every', 'Spanish', 'Errors', 'LONDON', 'Reuters', 'Coinbase', 'Global', 'U.S.', 'Nasdaq', 'Wednesday', 'Reuters', 'Evolving', 'HSBC', 'InvestDirect', 'MicroStrategy', '``', 'April', \"''\", 'Street', '``', \"''\", 'Sunday', 'weeks.So', 'Mastercard', 'BNY', 'Mellon', 'Thursday', 'XRP', 'Yuriko', 'Nakao/Getty', 'Images', 'Personal', 'Finance', 'Insider', 'American']\n"
     ]
    },
    {
     "ename": "NameError",
     "evalue": "name 'btc_bigram_counts' is not defined",
     "output_type": "error",
     "traceback": [
      "\u001b[1;31m---------------------------------------------------------------------------\u001b[0m",
      "\u001b[1;31mNameError\u001b[0m                                 Traceback (most recent call last)",
      "\u001b[1;32m<ipython-input-25-7890478f3e98>\u001b[0m in \u001b[0;36m<module>\u001b[1;34m\u001b[0m\n\u001b[0;32m      2\u001b[0m \u001b[0mbtc_corpus\u001b[0m \u001b[1;33m=\u001b[0m \u001b[0mbtc_df\u001b[0m\u001b[1;33m.\u001b[0m\u001b[0mtext\u001b[0m\u001b[1;33m.\u001b[0m\u001b[0mstr\u001b[0m\u001b[1;33m.\u001b[0m\u001b[0mcat\u001b[0m\u001b[1;33m(\u001b[0m\u001b[1;33m)\u001b[0m\u001b[1;33m\u001b[0m\u001b[1;33m\u001b[0m\u001b[0m\n\u001b[0;32m      3\u001b[0m \u001b[0mbtc_bigram\u001b[0m \u001b[1;33m=\u001b[0m \u001b[0mngrams\u001b[0m\u001b[1;33m(\u001b[0m\u001b[0mtokenizer\u001b[0m\u001b[1;33m(\u001b[0m\u001b[0mbtc_corpus\u001b[0m\u001b[1;33m)\u001b[0m\u001b[1;33m,\u001b[0m \u001b[0mN\u001b[0m\u001b[1;33m)\u001b[0m\u001b[1;33m\u001b[0m\u001b[1;33m\u001b[0m\u001b[0m\n\u001b[1;32m----> 4\u001b[1;33m \u001b[0mbtc_bigram_counts\u001b[0m\u001b[1;33m(\u001b[0m\u001b[0mbtc_bigram\u001b[0m\u001b[1;33m)\u001b[0m\u001b[1;33m.\u001b[0m\u001b[0mmost_common\u001b[0m\u001b[1;33m(\u001b[0m\u001b[1;36m20\u001b[0m\u001b[1;33m)\u001b[0m\u001b[1;33m\u001b[0m\u001b[1;33m\u001b[0m\u001b[0m\n\u001b[0m",
      "\u001b[1;31mNameError\u001b[0m: name 'btc_bigram_counts' is not defined"
     ]
    }
   ],
   "source": [
    "N = 2\n",
    "btc_corpus = btc_df.text.str.cat()\n",
    "btc_bigram = ngrams(tokenizer(btc_corpus), N)\n",
    "btc_bigram_counts(btc_bigram).most_common(20)"
   ]
  },
  {
   "cell_type": "code",
   "execution_count": 30,
   "metadata": {},
   "outputs": [
    {
     "name": "stdout",
     "output_type": "stream",
     "text": [
      "{('T', 'e'): 13, ('e', 's'): 198, ('s', 'l'): 19, ('l', 'a'): 62, ('a', '’'): 1, ('’', 's'): 3, ('s', ' '): 364, (' ', 'r'): 78, ('r', 'e'): 276, ('e', 'l'): 36, ('a', 't'): 132, ('t', 'i'): 118, ('i', 'o'): 92, ('o', 'n'): 219, ('n', 's'): 40, ('s', 'h'): 36, ('h', 'i'): 74, ('i', 'p'): 4, ('p', ' '): 17, (' ', 'w'): 91, ('w', 'i'): 35, ('i', 't'): 208, ('t', 'h'): 248, ('h', ' '): 79, (' ', 'b'): 119, ('b', 'i'): 49, ('t', 'c'): 90, ('c', 'o'): 157, ('o', 'i'): 114, ('i', 'n'): 390, ('n', ' '): 382, (' ', 'i'): 195, ('i', 's'): 102, (' ', 'n'): 30, ('n', 'o'): 28, ('o', 't'): 28, ('t', ' '): 210, (' ', 'a'): 266, ('a', ' '): 106, (' ', 'd'): 66, ('d', 'a'): 59, ('a', 'l'): 90, ('l', 'l'): 80, ('l', 'i'): 57, ('i', 'a'): 21, ('a', 'n'): 163, ('n', 'c'): 111, ('c', 'e'): 69, ('e', ','): 10, (',', ' '): 160, ('a', 'c'): 43, ('c', 'c'): 12, ('o', 'r'): 135, ('r', 'd'): 27, ('d', 'i'): 57, ('n', 'g'): 120, ('g', ' '): 93, (' ', 't'): 314, ('t', 'o'): 165, ('o', ' '): 100, ('h', 'e'): 199, ('e', ' '): 362, (' ', 'c'): 246, ('o', 'm'): 51, ('m', 'm'): 5, ('m', 'e'): 55, ('e', 'n'): 195, ('n', 't'): 102, ('t', 's'): 56, (' ', 'm'): 96, ('m', 'a'): 74, ('a', 'd'): 49, ('d', 'e'): 49, ('b', 'y'): 18, ('y', ' '): 194, ('m', 'p'): 28, ('p', 'a'): 31, ('n', 'y'): 8, ('y', '’'): 1, (' ', 'C'): 42, ('C', 'F'): 1, ('F', 'O'): 1, ('O', ' '): 2, ('n', 'd'): 117, ('d', ' '): 201, ('d', 'u'): 23, ('u', 'b'): 9, ('b', 'b'): 1, ('b', 'e'): 25, ('e', 'd'): 112, (' ', '“'): 1, ('“', 'm'): 1, ('a', 's'): 97, ('s', 't'): 175, ('t', 'e'): 133, ('e', 'r'): 198, ('r', ' '): 134, (' ', 'o'): 201, ('o', 'f'): 113, ('f', ' '): 107, ('n', '”'): 1, ('”', ' '): 1, (' ', 'Z'): 1, ('Z', 'a'): 1, ('c', 'h'): 163, (' ', 'K'): 3, ('K', 'i'): 1, ('i', 'r'): 62, ('r', 'k'): 22, ('k', 'h'): 1, ('h', 'o'): 36, ('r', 'n'): 17, ('u', 'r'): 114, ('r', 'i'): 77, (' ', 'e'): 70, ('e', 'a'): 69, ('a', 'r'): 248, ('n', 'i'): 27, ('g', 's'): 7, ('c', 'a'): 24, ('l', ' '): 91, (' ', 'M'): 39, ('M', 'o'): 8, ('a', 'y'): 78, ('y', '.'): 7, ('.', ' '): 56, (' ', 'I'): 35, ('I', 'n'): 28, ('d', ','): 5, ('n', '…'): 6, ('…', ' '): 100, (' ', '['): 100, ('[', '+'): 100, ('+', '3'): 17, ('3', '0'): 4, ('0', '7'): 2, ('7', '3'): 2, ('3', ' '): 14, ('h', 'a'): 195, ('r', 's'): 201, ('s', ']'): 100, (']', 'C'): 6, ('C', 'r'): 9, ('r', 'y'): 66, ('y', 'p'): 49, ('p', 't'): 57, ('o', 'c'): 64, ('c', 'u'): 68, ('r', 'r'): 68, ('c', 'y'): 47, ('n', 'u'): 8, ('u', 'e'): 25, (' ', 'g'): 40, ('g', 'a'): 12, ('a', 'i'): 44, ('t', 'r'): 86, ('a', 'm'): 17, ('m', ' '): 38, ('e', 'p'): 30, ('t', 'a'): 88, (' ', 'P'): 17, ('P', 'a'): 2, ('y', 'P'): 1, ('n', 'n'): 3, ('o', 'u'): 71, ('u', 'n'): 46, ('e', 'y'): 9, (' ', 'h'): 64, ('a', 'v'): 10, ('v', 'e'): 57, ('d', 'd'): 8, (' ', 'B'): 55, ('B', 'i'): 64, ('n', ','): 12, (' ', 'E'): 28, ('E', 't'): 9, ('e', 'u'): 54, ('u', 'm'): 23, ('m', ','): 3, ('C', 'a'): 8, ('h', ','): 3, (' ', 'L'): 6, ('L', 'i'): 4, ('e', 'c'): 54, (' ', 'V'): 4, ('V', 'e'): 3, ('n', 'm'): 6, ('m', 'o'): 38, ('a', 'p'): 29, ('p', 'p'): 14, ('p', '.'): 2, (' ', 'W'): 19, ('W', 'i'): 3, (' ', 'u'): 17, ('u', 's'): 65, ('s', 'e'): 121, ('b', 'a'): 34, (' ', '7'): 3, ('7', '0'): 7, ('0', ' '): 24, ('m', 'i'): 30, ('i', 'l'): 79, ('o', '…'): 7, ('+', '2'): 24, ('2', '7'): 7, ('7', '8'): 3, ('8', '2'): 2, ('2', ' '): 12, (' ', 'p'): 77, ('p', 'r'): 94, ('i', 'c'): 70, ('t', 'u'): 31, ('m', 'b'): 5, ('b', 'l'): 20, ('l', 'e'): 54, (' ', 'F'): 18, ('F', 'r'): 8, ('i', 'd'): 40, (' ', 'l'): 55, ('r', 'g'): 20, ('g', 'e'): 53, (' ', 'f'): 105, ('f', 'o'): 35, ('n', 'e'): 74, ('e', 't'): 56, ('p', 'i'): 16, ('l', 'o'): 58, ('o', 'w'): 44, ('w', ' '): 19, (' ', '$'): 35, ('$', '5'): 9, ('5', '0'): 6, ('0', ','): 10, (',', '0'): 13, ('0', '0'): 30, ('f', 'i'): 32, ('i', 'm'): 20, (' ', 's'): 153, ('s', 'i'): 39, ('r', 'l'): 19, ('l', 'y'): 24, ('M', 'a'): 16, ('r', 'c'): 16, ('h', '.'): 4, ('.', '\\r'): 31, ('\\r', '\\n'): 101, ('\\n', 'B'): 8, ('d', 'o'): 24, ('w', 'n'): 15, ('r', 'o'): 101, ('+', '1'): 31, ('1', '2'): 5, ('2', '2'): 5, (']', 'T'): 12, ('T', 'h'): 35, ('c', 'r'): 54, ('w', 'h'): 11, ('o', 'l'): 25, ('e', 'e'): 50, (' ', 'y'): 18, ('y', 'e'): 13, ('g', 'r'): 23, ('w', 't'): 1, ('v', 'i'): 52, ('s', 'p'): 11, ('p', 'u'): 6, ('r', 'a'): 86, ('u', 't'): 75, ('n', 'a'): 23, ('n', 'v'): 15, ('o', 'p'): 16, (' ', 'v'): 28, ('v', 'a'): 8, ('l', 'u'): 38, ('p', 'e'): 30, ('r', 't'): 57, ('i', 'e'): 31, ('s', '.'): 17, (' ', 'T'): 28, (' ', '2'): 47, ('2', '0'): 41, ('0', '2'): 29, ('i', 'k'): 11, ('k', 'e'): 48, ('e', '…'): 15, ('+', '4'): 7, ('4', '6'): 3, ('6', '7'): 3, ('7', '5'): 4, ('5', ' '): 10, (']', 'i'): 1, ('a', 'g'): 18, ('p', 'y'): 1, ('y', 'r'): 1, ('i', 'g'): 43, ('g', 'h'): 22, ('h', 't'): 8, ('t', 'G'): 1, ('G', 'e'): 9, ('t', 't'): 12, ('t', 'y'): 13, ('I', 'm'): 8, ('s', '\\r'): 14, ('\\n', 'i'): 1, ('n', 'E'): 1, ('E', 'l'): 6, ('M', 'u'): 5, ('s', 'k'): 7, ('k', \"'\"): 4, (\"'\", 's'): 18, (' ', 'j'): 10, ('j', 'u'): 8, ('\\n', 'T'): 18, ('p', 'o'): 20, ('o', 's'): 32, (' ', 'q'): 6, ('q', 'u'): 8, ('u', 'a'): 30, ('$', '4'): 5, ('4', '3'): 4, ('3', '8'): 6, ('8', 'm'): 1, (' ', '('): 31, ('(', '£'): 1, ('£', '3'): 1, ('3', '1'): 4, ('1', '5'): 12, ('5', 'm'): 1, ('m', ')'): 1, (')', ' '): 30, ('b', 'o'): 17, ('l', 's'): 2, ('s', 'a'): 23, ('s', '…'): 5, (']', 'E'): 5, ('E', 'a'): 3, (' ', 'D'): 18, ('D', 'a'): 17, ('b', 'r'): 9, ('d', 's'): 15, ('e', 'o'): 1, ('p', 'l'): 16, ('e', 'i'): 20, ('e', '-'): 6, ('-', 'e'): 3, ('e', 'x'): 40, ('x', 'i'): 5, ('o', 'd'): 17, ('u', 'c'): 12, ('c', 't'): 27, ('s', 's'): 41, ('s', ','): 15, ('s', 'w'): 2, ('w', 'a'): 27, ('d', 'l'): 3, ('u', 'p'): 12, ('c', 'k'): 35, ('k', 'a'): 2, ('e', '.'): 9, (' ', 'S'): 51, ('S', 'o'): 4, ('r', 'h'): 1, ('p', 's'): 3, ('s', 'u'): 19, ('r', 'p'): 5, (' ', 'J'): 7, ('J', 'a'): 5, ('k', ' '): 34, ('D', 'o'): 7, ('e', 'm'): 14, ('4', '7'): 6, ('7', '1'): 3, ('1', '1'): 8, ('1', ' '): 19, (']', 'V'): 1, ('a', 'b'): 11, ('o', 'a'): 5, ('d', 'w'): 2, ('g', 'o'): 12, ('n', '.'): 6, ('.', '\\xa0'): 6, ('\\xa0', '\\r'): 7, ('s', 'o'): 9, ('c', 'i'): 24, ('y', 'm'): 5, ('r', 'v'): 6, ('T', 'u'): 7, ('s', 'd'): 24, ('b', 'u'): 19, ('u', 'y'): 5, ('y', ','): 23, ('l', 'd'): 23, ('\\n', 'F'): 7, ('F', 'o'): 2, ('r', '…'): 4, ('5', '2'): 4, ('2', '4'): 8, ('4', ' '): 16, (']', 'N'): 2, ('N', 'e'): 4, ('e', 'w'): 11, (' ', 'Y'): 4, ('Y', 'o'): 4, ('(', 'C'): 2, ('C', 'N'): 2, ('N', 'N'): 1, ('N', ' '): 3, ('B', 'u'): 5, ('s', ')'): 22, (')', 'B'): 1, ('e', 'b'): 11, ('S', 'a'): 6, (' ', '6'): 4, ('6', '%'): 2, ('%', ' '): 16, ('5', '8'): 5, ('8', ','): 5, ('0', '.'): 5, ('w', 'o'): 23, ('d', \"'\"): 2, ('o', 'v'): 22, ('w', 'e'): 27, ('y', 'o'): 14, ('i', 'b'): 9, ('g', ','): 3, (' ', '…'): 15, ('+', '8'): 2, ('8', '6'): 4, ('6', '6'): 1, ('6', ' '): 14, (']', 'I'): 3, ('I', 't'): 5, ('o', ','): 1, (' ', 'R'): 58, ('R', 'o'): 4, ('o', 'b'): 14, ('n', 'h'): 4, ('o', 'o'): 14, ('e', 'v'): 11, ('h', 'y'): 3, (' ', '—'): 3, ('—', ' '): 3, ('w', '.'): 1, ('\\n', 'I'): 3, ('o', 'g'): 14, ('C', 'h'): 6, ('h', 'r'): 3, ('B', 'r'): 3, ('h', '…'): 3, ('2', '1'): 31, ('5', '7'): 3, ('7', ' '): 17, (']', 'B'): 26, ('B', 'y'): 17, ('R', 'e'): 47, ('S', 't'): 29, ('a', 'f'): 25, ('f', 'f'): 24, ('f', '\\r'): 17, ('\\n', '('): 8, ('(', 'R'): 24, (' ', '-'): 20, ('-', 'M'): 1, ('M', 'i'): 10, ('o', 'S'): 4, ('e', 'g'): 9, ('g', 'y'): 9, ('c', ','): 4, ('a', 'j'): 5, ('j', 'o'): 7, ('r', ','): 10, ('n', '-'): 2, ('o', 'y'): 3, ('f', 'e'): 13, ('\\n', 'S'): 4, ('S', 'h'): 5, ('+', '6'): 6, ('6', '8'): 3, ('8', '5'): 3, ('t', 'w'): 14, ('r', 'u'): 10, ('o', 'e'): 3, ('E', 'n'): 6, ('n', 'k'): 12, ('m', 's'): 4, ('f', 'a'): 7, ('t', 'p'): 2, ('+', '7'): 7, ('7', '6'): 4, ('6', '5'): 4, ('5', '5'): 3, (']', 'W'): 2, ('W', 'e'): 16, ('e', \"'\"): 1, (\"'\", 'r'): 1, ('D', 'O'): 4, ('O', 'G'): 1, ('G', 'E'): 1, ('E', ','): 2, ('o', 'k'): 6, ('u', 'l'): 11, ('u', ' '): 4, ('6', '3'): 4, ('3', '2'): 5, ('2', '9'): 6, ('9', ' '): 15, ('\\n', 'A'): 8, ('A', 'p'): 22, (' ', '1'): 24, ('-', ' '): 17, (' ', ','): 1, ('R', '…'): 1, (']', 'J'): 3, ('o', '-'): 4, ('-', 'f'): 1, ('C', 'E'): 2, ('E', 'O'): 1, ('T', 'w'): 1, ('d', 'n'): 13, (' ', '\"'): 9, ('\"', 'i'): 1, ('i', 'v'): 12, ('.', '\"'): 2, ('\"', ' '): 6, (' ', 'A'): 34, ('A', 'n'): 2, ('\"', 'T'): 2, ('T', 'r'): 1, ('B', 'B'): 1, ('B', 'C'): 6, ('C', ' '): 4, ('\"', 'd'): 1, ('x', 'p'): 13, ('i', '…'): 5, ('1', '3'): 11, ('3', '3'): 4, ('C', 'o'): 16, ('K', 'u'): 1, ('w', 's'): 5, ('h', 'u'): 4, ('$', '2'): 4, ('2', '5'): 6, ('k', 's'): 14, ('2', '3'): 6, ('8', '7'): 3, ('F', 'I'): 5, ('I', 'L'): 5, ('L', 'E'): 6, ('E', ' '): 5, ('P', 'H'): 5, ('H', 'O'): 5, ('O', 'T'): 5, ('T', 'O'): 7, ('O', ':'): 6, (':', ' '): 11, ('A', ' '): 16, ('g', 'i'): 22, ('C', 'l'): 2, ('a', ','): 8, ('i', 'f'): 6, (' ', 'U'): 13, ('U', '.'): 11, ('.', 'S'): 12, ('S', '.'): 11, (' ', 'O'): 5, ('O', 'c'): 2, ('2', ','): 5, ('0', '1'): 7, ('1', '9'): 12, ('9', '.'): 6, ('R', 'E'): 21, ('E', 'U'): 19, ('U', 'T'): 19, ('T', 'E'): 19, ('E', 'R'): 19, ('R', 'S'): 19, ('S', '/'): 19, ('/', 'M'): 2, ('B', 'l'): 2, ('a', 'k'): 24, ('e', '\\r'): 1, ('c', ' '): 17, ('f', '…'): 3, ('1', '4'): 10, ('1', '8'): 5, ('8', ' '): 10, ('g', 'g'): 8, ('t', '-'): 5, ('-', 'k'): 2, ('k', 'n'): 3, ('d', 'r'): 8, ('7', '.'): 2, ('.', '7'): 4, ('7', '%'): 3, ('5', ','): 10, (',', '4'): 2, ('4', '0'): 5, ('0', '8'): 3, ('8', '.'): 2, ('.', '0'): 4, ('S', 'u'): 6, ('4', ','): 7, (',', '6'): 2, ('6', '2'): 4, ('4', '.'): 4, ('.', '2'): 1, ('f', 'r'): 32, ('c', 'l'): 19, ('\\n', 'E'): 5, ('k', '…'): 2, ('8', '9'): 5, ('\\n', 'L'): 3, ('L', 'O'): 4, ('O', 'N'): 7, ('N', 'D'): 3, ('N', ','): 1, ('$', '6'): 9, (',', '5'): 2, ('x', 't'): 3, ('t', '…'): 6, ('3', '5'): 5, ('p', 'h'): 13, ('1', '.'): 16, ('/', 'D'): 13, ('R', 'u'): 14, ('u', 'v'): 14, ('c', '/'): 12, ('/', 'I'): 12, ('I', 'l'): 12, ('n', '/'): 5, ('/', 'F'): 6, ('F', 'i'): 9, ('P', 'h'): 8, ('o', '\\r'): 2, ('N', '…'): 1, ('4', '4'): 4, ('4', '9'): 2, ('F', 'e'): 4, ('7', ','): 5, ('/', 'E'): 1, ('E', 'r'): 5, (' ', 'G'): 13, ('G', 'a'): 2, ('d', 'B'): 1, ('6', '.'): 3, ('.', '5'): 2, ('5', '4'): 5, ('4', '%'): 4, ('0', '9'): 2, ('9', '8'): 3, ('$', '3'): 3, ('3', ','): 4, ('0', '4'): 4, ('.', '1'): 1, ('l', '…'): 4, ('3', '7'): 4, ('7', '7'): 9, (',', '2'): 1, ('2', '6'): 5, ('6', '9'): 2, ('.', '9'): 2, ('$', '9'): 3, ('9', '0'): 4, ('0', '6'): 3, ('2', '.'): 2, ('5', '…'): 1, (']', 'R'): 2, ('r', 'b'): 2, ('o', '/'): 3, ('o', 'B'): 1, (']', '*'): 3, ('*', ' '): 12, ('A', 's'): 4, (' ', ':'): 2, ('t', 'm'): 6, ('s', 'n'): 4, ('n', 'r'): 2, ('t', '.'): 7, ('.', 'r'): 2, ('s', '/'): 2, ('/', '2'): 3, ('2', 'z'): 2, ('z', 'p'): 2, ('p', 'U'): 2, ('U', 'A'): 2, ('A', 'r'): 2, ('r', '4'): 2, ('4', '\\r'): 2, ('\\n', '*'): 9, ('A', 'u'): 2, (' ', 'N'): 14, ('N', 'Z'): 2, ('Z', ','): 2, ('K', 'o'): 1, ('r', 'm'): 18, ('N', 'i'): 1, ('k', 'k'): 1, ('i', ' '): 1, (' ', '0'): 1, ('.', '4'): 1, ('%', '\\r'): 1, ('g', '\\r'): 1, ('C', 'u'): 3, ('w', '…'): 2, ('(', 'v'): 1, ('y', ')'): 1, ('D', 'e'): 5, ('c', '.'): 3, (' ', '8'): 4, ('1', '7'): 9, ('/', 'B'): 2, ('B', 'e'): 3, ('r', '/'): 1, ('6', ','): 5, ('c', 'B'): 1, ('.', '8'): 1, ('8', '%'): 3, ('5', '6'): 3, (',', '8'): 2, ('0', '3'): 4, ('1', '0'): 5, ('G', 'M'): 1, ('M', 'T'): 1, ('T', ' '): 2, ('d', '…'): 2, (']', 'A'): 16, ('l', '\\r'): 5, ('\\n', '2'): 7, ('1', '\\r'): 5, ('\\n', '4'): 2, ('d', '\\r'): 7, ('t', 'B'): 1, ('t', 'T'): 1, ('T', 'i'): 2, ('T', 'o'): 5, ('y', 'i'): 4, ('A', 'g'): 1, ('n', '\\xa0'): 1, ('\\n', 'W'): 1, ('5', '%'): 3, ('%', ','): 2, ('e', '’'): 1, ('’', 'r'): 1, ('C', 'R'): 1, ('R', 'Y'): 1, ('Y', 'P'): 1, ('P', 'T'): 1, ('B', 'T'): 4, ('T', 'C'): 4, ('C', ')'): 3, (']', 'K'): 1, ('K', 'T'): 1, ('T', 'S'): 2, ('S', ' '): 3, ('g', 'n'): 6, ('/', 'S'): 2, ('S', 'c'): 1, ('y', '/'): 2, ('/', 'G'): 5, ('4', '8'): 2, ('n', '\\r'): 3, ('1', '…'): 1, ('2', '8'): 5, ('\"', 'm'): 1, ('e', '\"'): 1, ('f', 't'): 9, ('.', '.'): 2, ('+', '9'): 3, ('9', '7'): 1, (']', 'O'): 2, ('O', 'p'): 5, ('L', 'a'): 1, ('a', 'w'): 3, ('m', 'y'): 1, ('G', 'r'): 2, ('U', 'S'): 4, ('N', 'B'): 1, ('\\n', 'C'): 3, ('d', 'y'): 2, ('N', 'Y'): 2, ('Y', 'D'): 1, ('D', 'I'): 1, ('I', 'G'): 1, ('G', ' '): 1, ('N', 'a'): 4, ('5', '1'): 1, ('\\n', 'O'): 3, (' ', '9'): 2, ('9', '%'): 1, ('n', 'D'): 1, ('p', '…'): 2, ('6', '1'): 4, ('T', 'L'): 1, ('L', ';'): 1, (';', 'D'): 1, ('D', 'R'): 1, ('R', ':'): 1, ('f', 'l'): 5, ('D', 'C'): 1, ('E', 'N'): 1, ('N', 'T'): 1, ('t', '\\r'): 1, ('\\n', ','): 1, ('$', '1'): 3, ('0', '5'): 2, ('W', 'A'): 1, ('A', 'L'): 1, ('L', 'L'): 1, ('E', 'T'): 5, ('T', '1'): 1, ('k', 'o'): 2, ('\\n', 'J'): 1, ('J', 'u'): 3, (']', 'U'): 1, ('g', 'u'): 3, ('T', 'F'): 2, ('F', 's'): 1, ('C', 'e'): 3, ('s', 'c'): 3, ('F', ' '): 1, ('N', 'o'): 3, ('A', 'm'): 3, ('h', 's'): 4, ('1', ','): 2, ('n', 'b'): 11, (' ', 'Q'): 1, ('Q', '1'): 1, ('2', '…'): 1, ('8', '3'): 1, ('3', '6'): 6, ('C', 'i'): 2, ('5', '.'): 1, ('M', 'c'): 1, ('c', 'D'): 1, ('d', 'U'): 1, ('v', ','): 1, ('t', ','): 5, ('S', 'p'): 5, ('e', 'X'): 1, ('X', ' '): 2, ('s', 'f'): 1, ('f', 'u'): 9, ('a', 'u'): 6, ('y', ':'): 1, ('M', 'e'): 4, ('D', 'i'): 3, ('g', '…'): 2, ('6', '0'): 7, ('G', 'l'): 6, ('9', '9'): 2, ('.', '6'): 2, ('d', 'm'): 3, ('\\n', 'H'): 2, ('H', 'e'): 3, ('w', 'y'): 1, (']', '('): 2, ('(', 'A'): 2, ('A', 'd'): 2, ('u', 'o'): 1, ('p', 'd'): 1, (')', '\\r'): 2, ('v', 'o'): 5, ('x', '-'): 2, ('-', 'G'): 1, ('G', 'o'): 1, ('R', 'a'): 1, ('a', 'o'): 2, ('-', 's'): 2, (' ', 'H'): 11, ('H', 'i'): 3, ('E', 'b'): 3, ('H', 'o'): 4, ('n', 'B'): 2, ('n', \"'\"): 6, ('3', '9'): 3, ('u', 'f'): 3, ('e', 'f'): 5, ('P', 'r'): 1, ('J', 'o'): 4, ('a', 'x'): 3, ('x', 'e'): 5, ('b', ' '): 2, ('x', 'c'): 11, ('(', 'B'): 4, ('T', 'H'): 4, ('H', ')'): 6, (')', ','): 4, ('(', 'E'): 2, ('(', 'L'): 2, ('L', 'T'): 2, ('C', 'H'): 2, ('A', 'T'): 2, ('T', 'M'): 2, ('M', ' '): 2, ('k', 'c'): 3, ('V', 'a'): 2, ('a', 'e'): 3, ('x', ' '): 4, ('9', ';'): 1, (';', ' '): 1, ('C', 'A'): 1, ('A', ','): 1, ('S', 'A'): 1, ('A', ':'): 1, ('S', 'e'): 3, ('l', 'k'): 2, ('k', 'i'): 7, ('L', 'o'): 3, ('P', 'e'): 2, ('r', 'f'): 3, ('a', '…'): 5, ('m', 'u'): 3, ('y', 's'): 4, ('6', '4'): 3, ('b', 's'): 2, ('e', 'q'): 1, ('t', 'l'): 3, ('4', '5'): 2, ('S', '$'): 1, ('.', 's'): 1, ('e', 'h'): 3, ('d', '\\xa0'): 1, ('\\xa0', 'f'): 1, ('e', '\\xa0'): 1, ('\\xa0', 'W'): 1, ('W', 'a'): 3, ('4', '2'): 1, ('e', 'k'): 9, ('k', ','): 3, ('t', \"'\"): 4, ('9', '4'): 3, ('e', 'T'): 1, ('(', 'T'): 1, ('S', 'L'): 1, ('L', 'A'): 1, ('A', '.'): 1, ('.', 'O'): 1, ('O', ')'): 2, (']', 'P'): 2, ('P', 'o'): 3, (' ', '\\r'): 1, ('S', '&'): 2, ('&', 'a'): 2, ('p', ';'): 2, (';', 'P'): 2, ('P', ' '): 2, ('u', 'd'): 2, ('-', 'm'): 4, ('l', 'p'): 3, ('C', 'O'): 1, ('O', 'V'): 1, ('V', 'I'): 1, ('I', 'D'): 1, ('D', '-'): 1, ('-', '1'): 1, (']', 'S'): 1, ('y', \"'\"): 3, ('B', 'a'): 1, ('s', 'y'): 1, ('\"', 'L'): 1, ('A', 'i'): 1, ('r', '\"'): 1, ('\"', ','): 1, (']', 'L'): 2, ('H', 'S'): 2, ('S', 'B'): 2, ('n', 'l'): 1, ('-', 't'): 3, ('t', 'f'): 2, ('t', '’'): 1, ('k', '.'): 1, ('\\n', '\"'): 1, ('\"', '&'): 1, ('&', 'g'): 1, ('g', 't'): 1, ('t', ';'): 1, (';', '\\r'): 1, ('e', '?'): 1, ('?', '\\xa0'): 1, ('\\xa0', 'R'): 1, ('R', 'i'): 2, ('w', ','): 2, ('i', 'z'): 2, ('z', 'a'): 1, ('o', '\\xa0'): 1, ('\\xa0', 'l'): 1, ('O', 'r'): 2, ('d', '/'): 1, ('l', '-'): 3, ('-', 'o'): 1, ('\"', 'l'): 1, ('r', 'w'): 1, (',', '\"'): 3, ('F', 'u'): 4, ('L', 'e'): 1, ('c', '…'): 2, (' ', '4'): 3, ('l', '.'): 3, ('1', '6'): 6, (']', 'F'): 1, ('l', 'f'): 1, ('f', '.'): 1, ('z', 'e'): 1, ('u', 'g'): 5, ('r', '.'): 1, ('l', 'w'): 1, ('P', 'C'): 1, ('C', 's'): 1, ('I', 'f'): 1, (\"'\", 't'): 1, ('l', 'v'): 2, ('4', '1'): 2, ('1', '%'): 2, ('l', ','): 3, ('l', 'm'): 1, ('E', 'I'): 1, ('I', 'B'): 1, ('B', ' '): 1, ('e', ')'): 1, ('S', 'I'): 2, ('I', 'N'): 2, ('N', 'G'): 2, ('G', 'A'): 2, ('A', 'P'): 2, ('P', 'O'): 2, ('O', 'R'): 3, (' ', '3'): 4, ('8', '4'): 2, ('-', 'l'): 4, ('3', 'i'): 2, ('i', 'Q'): 2, ('Q', ' '): 2, ('S', 'i'): 1, ('l', 't'): 1, ('\\n', 'D'): 2, ('D', 'U'): 1, ('U', 'B'): 1, ('B', 'A'): 1, ('A', 'I'): 5, ('I', ','): 1, ('9', '6'): 1, ('/', 'R'): 2, ('E', 'x'): 2, ('u', '…'): 1, ('m', '.'): 1, ('\\n', 'P'): 1, ('l', '/'): 1, ('g', '.'): 1, ('8', '1'): 3, (' ', '5'): 1, ('2', '%'): 1, ('A', 't'): 1, ('-', 'C'): 1, ('9', '1'): 3, ('E', 'u'): 1, ('k', 'l'): 2, ('c', 'L'): 1, ('(', 'Q'): 1, ('Q', 'B'): 1, ('u', '.'): 1, ('.', 'T'): 1, ('a', 'q'): 2, ('q', ' '): 2, ('D', 'u'): 1, ('i', ','): 1, ('3', '4'): 2, ('o', 'Y'): 1, ('n', 'S'): 1, ('M', 'S'): 1, ('S', 'C'): 1, ('C', 'I'): 1, ('I', ' '): 5, ('-', 'J'): 1, ('u', 'i'): 2, ('O', 'i'): 1, ('b', '…'): 1, (']', 'M'): 3, ('H', 'a'): 1, ('k', '-'): 1, ('-', 'c'): 1, ('c', 'q'): 1, ('d', '.'): 2, ('9', ','): 3, ('y', '…'): 2, ('D', 'A'): 1, ('A', 'X'): 1, ('k', 'f'): 1, ('f', '/'): 1, ('o', 'W'): 1, ('W', 'o'): 1, ('-', 'd'): 1, ('(', 'b'): 1, ('.', 'l'): 1, ('2', 'P'): 1, ('P', 't'): 1, ('t', 'M'): 1, ('M', 'Z'): 1, ('Z', '5'): 1, ('5', 'A'): 1, ('A', ')'): 1, ('+', '5'): 3, (']', 'G'): 1, ('n', 'T'): 1, ('n', 'I'): 1, ('n', 'f'): 2, ('t', 'z'): 2, ('z', ' '): 2, ('x', 'y'): 1, ('\\n', 'R'): 1, ('g', '/'): 1, ('\"', 'w'): 1, ('E', '…'): 1, ('7', '4'): 1, ('n', 'C'): 1, ('N', 'E'): 1, ('E', 'W'): 1, ('W', ' '): 1, ('Y', 'O'): 1, ('R', 'K'): 1, ('K', ' '): 1, (']', 'D'): 1, ('a', 'z'): 1, ('z', 'o'): 1, ('-', 'T'): 1, ('k', 'u'): 1, ('r', 'z'): 1, ('z', 'y'): 1, ('y', 'c'): 1, ('i', '/'): 1, ('/', 'N'): 1, ('N', 'u'): 1, ('r', 'P'): 1, ('k', 'y'): 1, ('-', 'b'): 1, ('x', 'o'): 1, ('y', '-'): 1, ('h', 'n'): 5, ('5', '3'): 1, ('9', ':'): 1, (':', '0'): 1, ('0', 'a'): 1, ('5', '9'): 1, ('9', '2'): 2, ('\\n', '9'): 1, ('E', 'v'): 2, ('7', '9'): 1, ('-', 'g'): 1, ('t', 'D'): 1, ('\"', 'f'): 1, ('w', 'r'): 2, ('\"', 's'): 1, ('d', '-'): 1, ('0', '\"'): 1, ('B', 'N'): 1, ('Y', ' '): 1, (' ', 'X'): 1, ('X', 'R'): 1, ('R', 'P'): 1, ('P', ','): 1, ('\\n', 'Y'): 1, ('Y', 'u'): 1, ('g', 'l'): 1, ('0', '-'): 1, ('s', 'm'): 2, ('t', 'n'): 1, ('9', '3'): 1}\n"
     ]
    }
   ],
   "source": [
    "# Generate the Bitcoin N-grams where N=2\n",
    "btc_bigram_counts = Counter(ngrams(btc_df.text.str.cat(), n=2))\n",
    "print(dict(btc_bigram_counts))"
   ]
  },
  {
   "cell_type": "code",
   "execution_count": 29,
   "metadata": {},
   "outputs": [
    {
     "name": "stdout",
     "output_type": "stream",
     "text": [
      "{('Their investors call them disruptive innovators. Detractors like North Carolina Attorney General Josh Stein call them dirty scammers. But Leda Health co-founders Madison Campbell and Liesel Vaidya th… [+8679 chars]', 'Cryptocurrency continues to gain mainstream acceptance, as PayPal announced that they have added Bitcoin, Ethereum, Bitcoin Cash, and Litecoin to its Venmo app. With a user base of 70 million, the mo… [+2782 chars]'): 1, ('Cryptocurrency continues to gain mainstream acceptance, as PayPal announced that they have added Bitcoin, Ethereum, Bitcoin Cash, and Litecoin to its Venmo app. With a user base of 70 million, the mo… [+2782 chars]', 'Venmo is jumping aboard the cryptocurrency bandwagon.\\xa0\\r\\nThe social payment service announced on Tuesday that its customers can now buy, hold, and sell cryptocurrencies within the Venmo app.\\xa0\\r\\nFour cr… [+1524 chars]'): 1, ('Venmo is jumping aboard the cryptocurrency bandwagon.\\xa0\\r\\nThe social payment service announced on Tuesday that its customers can now buy, hold, and sell cryptocurrencies within the Venmo app.\\xa0\\r\\nFour cr… [+1524 chars]', \"New York (CNN Business)Bitcoin prices continued their rebound Saturday, rising about 6% to nearly $58,000. But the world's largest cryptocurrency has been overshadowed lately by its younger sibling, … [+866 chars]\"): 1, (\"New York (CNN Business)Bitcoin prices continued their rebound Saturday, rising about 6% to nearly $58,000. But the world's largest cryptocurrency has been overshadowed lately by its younger sibling, … [+866 chars]\", 'The creators behind CryptoPunks, one of the most popular NFT projects on the web, just revealed their latest project called Meebits. The project boasts 20,000 procedurally generated 3D characters tha… [+2000 chars]'): 1, ('The creators behind CryptoPunks, one of the most popular NFT projects on the web, just revealed their latest project called Meebits. The project boasts 20,000 procedurally generated 3D characters tha… [+2000 chars]', 'ConsenSys, a key player in crypto and a major proponent of the Ethereum blockchain, has raised a\\xa0$65 million funding round from\\xa0J.P. Morgan, Mastercard, and UBS AG, as well as major blockchain compan… [+8767 chars]'): 1, ('ConsenSys, a key player in crypto and a major proponent of the Ethereum blockchain, has raised a\\xa0$65 million funding round from\\xa0J.P. Morgan, Mastercard, and UBS AG, as well as major blockchain compan… [+8767 chars]', 'By Reuters Staff\\r\\nFILE PHOTO: A representation of virtual currency Ethereum are seen in front of a stock graph in this illustration taken February 19, 2021. REUTERS/Dado Ruvic/Illustration\\r\\nSINGAPORE… [+748 chars]'): 1, ('By Reuters Staff\\r\\nFILE PHOTO: A representation of virtual currency Ethereum are seen in front of a stock graph in this illustration taken February 19, 2021. REUTERS/Dado Ruvic/Illustration\\r\\nSINGAPORE… [+748 chars]', 'A representation of virtual currency Ethereum are seen in front of a stock graph in this illustration taken February 19, 2021. REUTERS/Dado Ruvic/IllustrationCryptocurrency ether hit a record high of… [+760 chars]'): 1, ('A representation of virtual currency Ethereum are seen in front of a stock graph in this illustration taken February 19, 2021. REUTERS/Dado Ruvic/IllustrationCryptocurrency ether hit a record high of… [+760 chars]', 'Its been a big year for crypto, and Robinhood shared some stats today providing more evidence that the crypto boom is more than just hype — at least for now.\\r\\nIn a blog, Christine Brown, Robinhoods h… [+2157 chars]'): 1, ('Its been a big year for crypto, and Robinhood shared some stats today providing more evidence that the crypto boom is more than just hype — at least for now.\\r\\nIn a blog, Christine Brown, Robinhoods h… [+2157 chars]', 'This story originally appeared on StockMarketUS Stock Futures Edge Higher On Monday Morning\\r\\nThe U.S. stock futures moved higher in pre-market trading on Monday as investors prepare themselves for th… [+6451 chars]'): 1, ('This story originally appeared on StockMarketUS Stock Futures Edge Higher On Monday Morning\\r\\nThe U.S. stock futures moved higher in pre-market trading on Monday as investors prepare themselves for th… [+6451 chars]', 'This article was translated from our Spanish edition using AI technologies. Errors may exist due to this process.\\r\\nCryptocurrencies are the thing of today. Vitalik Buterin , 27-year-old co-founder of… [+831 chars]'): 1, ('This article was translated from our Spanish edition using AI technologies. Errors may exist due to this process.\\r\\nCryptocurrencies are the thing of today. Vitalik Buterin , 27-year-old co-founder of… [+831 chars]', 'Non-fungible tokens (NFTs) are quickly becoming go-tos for digital collecting, and that now includes something you might have had as a kid: baseball cards. Topps is launching its first NFT-based base… [+1535 chars]'): 1, ('Non-fungible tokens (NFTs) are quickly becoming go-tos for digital collecting, and that now includes something you might have had as a kid: baseball cards. Topps is launching its first NFT-based base… [+1535 chars]', 'Posted \\r\\nThe S&amp;P Dow Jones Indices launched new cryptocurrency indexes, further mainstreaming digital currencies including bitcoin and ethereum by bringing them to the trading floors of Wall Stre… [+30 chars]'): 1, ('Posted \\r\\nThe S&amp;P Dow Jones Indices launched new cryptocurrency indexes, further mainstreaming digital currencies including bitcoin and ethereum by bringing them to the trading floors of Wall Stre… [+30 chars]', 'A representation of virtual currency Ethereum are seen in front of a stock graph in this illustration taken February 19, 2021. REUTERS/Dado Ruvic/IllustrationCryptocurrency ether extended gains to an… [+632 chars]'): 1, ('A representation of virtual currency Ethereum are seen in front of a stock graph in this illustration taken February 19, 2021. REUTERS/Dado Ruvic/IllustrationCryptocurrency ether extended gains to an… [+632 chars]', 'By Reuters Staff\\r\\nSINGAPORE, May 3 (Reuters) - Cryptocurrency ether hit a record high on Monday to trade within a whisker of $3,000, extending last weeks rally in the wake of a report that the Europe… [+444 chars]'): 1, ('By Reuters Staff\\r\\nSINGAPORE, May 3 (Reuters) - Cryptocurrency ether hit a record high on Monday to trade within a whisker of $3,000, extending last weeks rally in the wake of a report that the Europe… [+444 chars]', 'By Reuters Staff\\r\\n(Adds detail of reported EIB plan and bitcoin price)\\r\\nSINGAPORE, May 3 (Reuters) - Cryptocurrency ether hit a record high on Monday to trade within a whisker of $3,000, extending la… [+684 chars]'): 1, ('By Reuters Staff\\r\\n(Adds detail of reported EIB plan and bitcoin price)\\r\\nSINGAPORE, May 3 (Reuters) - Cryptocurrency ether hit a record high on Monday to trade within a whisker of $3,000, extending la… [+684 chars]', 'By Reuters Staff\\r\\nFILE PHOTO: A representation of virtual currency Ethereum are seen in front of a stock graph in this illustration taken February 19, 2021. REUTERS/Dado Ruvic/Illustration\\r\\nSINGAPORE… [+619 chars]'): 1, ('By Reuters Staff\\r\\nFILE PHOTO: A representation of virtual currency Ethereum are seen in front of a stock graph in this illustration taken February 19, 2021. REUTERS/Dado Ruvic/Illustration\\r\\nSINGAPORE… [+619 chars]', 'Sotheby\\'s said on Tuesday it would accept bitcoin and ethereum as payment for Banksy\\'s iconic artwork \"Love is in the Air\", a first for a physical art auction and the latest sign of growing mainstrea… [+1176 chars]'): 1, ('Sotheby\\'s said on Tuesday it would accept bitcoin and ethereum as payment for Banksy\\'s iconic artwork \"Love is in the Air\", a first for a physical art auction and the latest sign of growing mainstrea… [+1176 chars]', 'April\\r\\n23, 2021\\r\\n3 min read\\r\\nThis article was translated from our Spanish edition using AI technologies. Errors may exist due to this process.\\r\\nAfter Bitcoin , another cryptocurrency that has capture… [+2643 chars]'): 1, ('April\\r\\n23, 2021\\r\\n3 min read\\r\\nThis article was translated from our Spanish edition using AI technologies. Errors may exist due to this process.\\r\\nAfter Bitcoin , another cryptocurrency that has capture… [+2643 chars]', 'April\\r\\n27, 2021\\r\\n6 min read\\r\\nOpinions expressed by Entrepreneur contributors are their own.\\r\\nThe prevalent economic narrative of this year has revolved around one concept: inflation. Year after year,… [+6638 chars]'): 1, ('April\\r\\n27, 2021\\r\\n6 min read\\r\\nOpinions expressed by Entrepreneur contributors are their own.\\r\\nThe prevalent economic narrative of this year has revolved around one concept: inflation. Year after year,… [+6638 chars]', 'Cryptocurrency prices continued to tumble Friday with Bitcoin leading the charge, with prices for the internet currency dipping below $50,000 for the first time since early March.\\r\\nBitcoin is down ro… [+1222 chars]'): 1, ('Cryptocurrency prices continued to tumble Friday with Bitcoin leading the charge, with prices for the internet currency dipping below $50,000 for the first time since early March.\\r\\nBitcoin is down ro… [+1222 chars]', 'A representation of virtual currency Ethereum are seen in front of a stock graph in this illustration taken February 19, 2021. REUTERS/Dado Ruvic/IllustrationBitcoin and ethereum, the two largest cry… [+1633 chars]'): 1, ('A representation of virtual currency Ethereum are seen in front of a stock graph in this illustration taken February 19, 2021. REUTERS/Dado Ruvic/IllustrationBitcoin and ethereum, the two largest cry… [+1633 chars]', 'A representation of virtual currency Bitcoin is seen in front of a stock graph in this illustration taken March 15, 2021. REUTERS/Dado Ruvic/IllustrationThe S&amp;P Dow Jones Indices launched new cry… [+1337 chars]'): 1, ('A representation of virtual currency Bitcoin is seen in front of a stock graph in this illustration taken March 15, 2021. REUTERS/Dado Ruvic/IllustrationThe S&amp;P Dow Jones Indices launched new cry… [+1337 chars]', 'This article was translated from our Spanish edition using AI technologies. Errors may exist due to this process.\\r\\nCryptocurrencies are gaining more and more ground in the world of investments and no… [+2023 chars]'): 1, ('This article was translated from our Spanish edition using AI technologies. Errors may exist due to this process.\\r\\nCryptocurrencies are gaining more and more ground in the world of investments and no… [+2023 chars]', \"Cryptocurrency ether, native to the Ethereum blockchain, hit a new all-time high above $3,000 on Monday in a standout performance that has outpaced rival currency bitcoin's gains so far this year.\\r\\nT… [+1862 chars]\"): 1, (\"Cryptocurrency ether, native to the Ethereum blockchain, hit a new all-time high above $3,000 on Monday in a standout performance that has outpaced rival currency bitcoin's gains so far this year.\\r\\nT… [+1862 chars]\", \"CryptocurrencyEthereum hit an all-time high on Monday, surpassing the $3,000 mark and beating Bitcoin's year-to-date gains, according to\\xa0Reuters.\\xa0\\r\\nEther, the token used in the Ethereum blockchain, j… [+1473 chars]\"): 1, (\"CryptocurrencyEthereum hit an all-time high on Monday, surpassing the $3,000 mark and beating Bitcoin's year-to-date gains, according to\\xa0Reuters.\\xa0\\r\\nEther, the token used in the Ethereum blockchain, j… [+1473 chars]\", 'By Reuters Staff\\r\\nMay 4 (Reuters) - The S&amp;P Dow Jones Indices, a division of financial data provider S&amp;P Global Inc, said on Tuesday it has launched a new series of cryptocurrency indices.\\r\\nT… [+291 chars]'): 1, ('By Reuters Staff\\r\\nMay 4 (Reuters) - The S&amp;P Dow Jones Indices, a division of financial data provider S&amp;P Global Inc, said on Tuesday it has launched a new series of cryptocurrency indices.\\r\\nT… [+291 chars]', \"Ether spiked as much as 8% on Tuesday to a new record high ahead of Coinbase's direct listing and Berlin hard fork, the next upcoming upgrade to the ethereum network, both happening on April 14.\\r\\nEth… [+1831 chars]\"): 1, (\"Ether spiked as much as 8% on Tuesday to a new record high ahead of Coinbase's direct listing and Berlin hard fork, the next upcoming upgrade to the ethereum network, both happening on April 14.\\r\\nEth… [+1831 chars]\", 'Last month, hours before news of Beeple’s $69 million NFT sale grabbed the front pages of newspapers across the country, a pair of 24 x 24 pixel portraits of aliens wearing little hats sold separatel… [+16687 chars]'): 1, ('Last month, hours before news of Beeple’s $69 million NFT sale grabbed the front pages of newspapers across the country, a pair of 24 x 24 pixel portraits of aliens wearing little hats sold separatel… [+16687 chars]', \"Many investors are excited about the Ethereum network's uses.\\r\\nSOPA Images/Getty Images\\r\\nEther soared to an all-time high above $2,400 on Thursday in the wake of the $100 billion Coinbase direct list… [+1923 chars]\"): 1, (\"Many investors are excited about the Ethereum network's uses.\\r\\nSOPA Images/Getty Images\\r\\nEther soared to an all-time high above $2,400 on Thursday in the wake of the $100 billion Coinbase direct list… [+1923 chars]\", 'The MLB has its answer to the NBAs Top Shot NFT clips\\r\\nMajor League Baseball has announced its latest move to cash in on the NFT craze: official blockchain-based versions of classic Topps baseball ca… [+2436 chars]'): 1, ('The MLB has its answer to the NBAs Top Shot NFT clips\\r\\nMajor League Baseball has announced its latest move to cash in on the NFT craze: official blockchain-based versions of classic Topps baseball ca… [+2436 chars]', \"Dado Ruvic/Reuters\\r\\nCryptocurrency ether, native to the Ethereum blockchain, hit a new all-time high above $3,000 on Monday in a standout performance that has outpaced rival currency bitcoin's gains … [+1890 chars]\"): 1, (\"Dado Ruvic/Reuters\\r\\nCryptocurrency ether, native to the Ethereum blockchain, hit a new all-time high above $3,000 on Monday in a standout performance that has outpaced rival currency bitcoin's gains … [+1890 chars]\", 'By Reuters Staff\\r\\nFILE PHOTO: A representation of virtual currency Bitcoin is seen in front of a stock graph in this illustration taken March 15, 2021. REUTERS/Dado Ruvic/Illustration\\r\\n(Reuters) -The… [+584 chars]'): 1, ('By Reuters Staff\\r\\nFILE PHOTO: A representation of virtual currency Bitcoin is seen in front of a stock graph in this illustration taken March 15, 2021. REUTERS/Dado Ruvic/Illustration\\r\\n(Reuters) -The… [+584 chars]', 'A biotech company, that has spent 11 years researching supplements to increase human longevity, plans to launch its supplements later this year. Longevica says it has attracted a total of $13 million… [+2392 chars]'): 1, ('A biotech company, that has spent 11 years researching supplements to increase human longevity, plans to launch its supplements later this year. Longevica says it has attracted a total of $13 million… [+2392 chars]', 'Dado Ruvic/Reuters\\r\\nEther, the digital cryptocurrency tied to the ethereum network, soared as much as 5% to new records on Monday, hitting a high of $3,203. \\r\\nThe digital currency, which is often use… [+2510 chars]'): 1, ('Dado Ruvic/Reuters\\r\\nEther, the digital cryptocurrency tied to the ethereum network, soared as much as 5% to new records on Monday, hitting a high of $3,203. \\r\\nThe digital currency, which is often use… [+2510 chars]', 'artsPublished 16th April 2021\\r\\nThis article was originally published by The Art Newspaper, an editorial partner of CNN Style.\\r\\nScam, pyramid scheme and tech speculation bubble -- such have been the m… [+3669 chars]'): 1, ('artsPublished 16th April 2021\\r\\nThis article was originally published by The Art Newspaper, an editorial partner of CNN Style.\\r\\nScam, pyramid scheme and tech speculation bubble -- such have been the m… [+3669 chars]', 'Yuriko Nakao/Getty Images\\r\\nInvestors can add bitcoin and ethereum to their portfolios through new cryptocurrency indexes available on Wall Street trading floors.\\r\\nS&amp;P Dow Jones on Tuesday announc… [+1802 chars]'): 1, ('Yuriko Nakao/Getty Images\\r\\nInvestors can add bitcoin and ethereum to their portfolios through new cryptocurrency indexes available on Wall Street trading floors.\\r\\nS&amp;P Dow Jones on Tuesday announc… [+1802 chars]', 'Lately Ive taken greatly to this epaper tablet, the ReMarkable 2. Im not sure who sells it. Not Apple or Amazon. Its slower and monochrome and less powerful than my iPad, but somehow its duller, pape… [+3520 chars]'): 1, ('Lately Ive taken greatly to this epaper tablet, the ReMarkable 2. Im not sure who sells it. Not Apple or Amazon. Its slower and monochrome and less powerful than my iPad, but somehow its duller, pape… [+3520 chars]', 'By Reuters Staff\\r\\nApril 18 (Reuters) - Bitcoin, the worlds biggest and best-known cryptocurrency, dropped 7.7% to $55,408.08 on Sunday, losing $4,624.21 from its previous close.\\r\\nEther, the coin link… [+189 chars]'): 1, ('By Reuters Staff\\r\\nApril 18 (Reuters) - Bitcoin, the worlds biggest and best-known cryptocurrency, dropped 7.7% to $55,408.08 on Sunday, losing $4,624.21 from its previous close.\\r\\nEther, the coin link… [+189 chars]', 'TL;DR: Store your cryptocurrency securely offline with the DCENT biometric crypto hardware wallet\\r\\n, on sale for $105 as of April 21 use code WALLET14 at checkout.\\r\\nJust like paper money, your crypto… [+1358 chars]'): 1, ('TL;DR: Store your cryptocurrency securely offline with the DCENT biometric crypto hardware wallet\\r\\n, on sale for $105 as of April 21 use code WALLET14 at checkout.\\r\\nJust like paper money, your crypto… [+1358 chars]', 'The trend of outrageous NFT auction sales continue with the sale of the \"Disaster Girl\" NFT, which went for over $500,000 in an auction hosted by Foundation.\\r\\nEven if you\\'re unaware of Disaster Girl\\'… [+1598 chars]'): 1, ('The trend of outrageous NFT auction sales continue with the sale of the \"Disaster Girl\" NFT, which went for over $500,000 in an auction hosted by Foundation.\\r\\nEven if you\\'re unaware of Disaster Girl\\'… [+1598 chars]', \"Getty Images/John Phillips\\r\\nThe 27-year-old co-creator of Ethereum, Vitalik Buterin, is now the world's youngest crypto billionaire after a 350% year-to-date surge in the price of his cryptocurrency.… [+2460 chars]\"): 1, (\"Getty Images/John Phillips\\r\\nThe 27-year-old co-creator of Ethereum, Vitalik Buterin, is now the world's youngest crypto billionaire after a 350% year-to-date surge in the price of his cryptocurrency.… [+2460 chars]\", 'Dado Ruvic/Reuters\\r\\nEther spiked as much as 8.5% on Thursday to a new record high above $2,560, pushing the market capitalization of the cryptocurrency near $300 billion for the first time.\\r\\nThe seco… [+2207 chars]'): 1, ('Dado Ruvic/Reuters\\r\\nEther spiked as much as 8.5% on Thursday to a new record high above $2,560, pushing the market capitalization of the cryptocurrency near $300 billion for the first time.\\r\\nThe seco… [+2207 chars]', 'By Reuters Staff\\r\\nApril 24 (Reuters) - Bitcoin dropped 1.77% to $50,269.9 on Saturday, losing $906.75 from its previous close.\\r\\nBitcoin, the worlds biggest and best-known cryptocurrency, is down 22.5… [+233 chars]'): 1, ('By Reuters Staff\\r\\nApril 24 (Reuters) - Bitcoin dropped 1.77% to $50,269.9 on Saturday, losing $906.75 from its previous close.\\r\\nBitcoin, the worlds biggest and best-known cryptocurrency, is down 22.5… [+233 chars]', 'Preamble: energy and power \\r\\nThe unit of energy well use in this post is the kilowatt-hour (kWh). This quantity is called one unit on electricity bills, and it costs a domestic user about 12 cents in… [+4525 chars]'): 1, ('Preamble: energy and power \\r\\nThe unit of energy well use in this post is the kilowatt-hour (kWh). This quantity is called one unit on electricity bills, and it costs a domestic user about 12 cents in… [+4525 chars]', 'Mastercard and BNY Mellon warmed to bitcoin on Thursday, supporting XRP, ether and other cryptocurrencies\\r\\nYuriko Nakao/Getty Images\\r\\nBitcoin has been struggling, tumbling below the $47,000-level to … [+3454 chars]'): 1, ('Mastercard and BNY Mellon warmed to bitcoin on Thursday, supporting XRP, ether and other cryptocurrencies\\r\\nYuriko Nakao/Getty Images\\r\\nBitcoin has been struggling, tumbling below the $47,000-level to … [+3454 chars]', 'April\\r\\n26, 2021\\r\\n7 min read\\r\\nThis story originally appeared on StockNewsOne of the biggest stories this year has been the rise of crypto currencies such as Bitcoin, Ethereum, and now Dogecoin. Coinba… [+8123 chars]'): 1, ('April\\r\\n26, 2021\\r\\n7 min read\\r\\nThis story originally appeared on StockNewsOne of the biggest stories this year has been the rise of crypto currencies such as Bitcoin, Ethereum, and now Dogecoin. Coinba… [+8123 chars]', \"Opinions expressed by Entrepreneur contributors are their own.\\r\\nDecentralized finance (DeFi) has experienced an unreal uptick unlike amid the chaos of 2020s crumbling global economies.\\r\\nLast year's w… [+4044 chars]\"): 1, (\"Opinions expressed by Entrepreneur contributors are their own.\\r\\nDecentralized finance (DeFi) has experienced an unreal uptick unlike amid the chaos of 2020s crumbling global economies.\\r\\nLast year's w… [+4044 chars]\", '(Updates sourcing, adds context)\\r\\nApril 28 (Reuters) - The European Investment Bank (EIB) has raised 100 million euros ($121 million) from a two-year digital bond issue, a spokesperson told Reuters o… [+1594 chars]'): 1, ('(Updates sourcing, adds context)\\r\\nApril 28 (Reuters) - The European Investment Bank (EIB) has raised 100 million euros ($121 million) from a two-year digital bond issue, a spokesperson told Reuters o… [+1594 chars]', 'Representation of the virtual currency Bitcoin is seen on a motherboard in this picture illustration taken April 24, 2020. REUTERS/Dado Ruvic/Illustration/File Photo/File PhotoBitcoin dropped 1.77% t… [+389 chars]'): 1, ('Representation of the virtual currency Bitcoin is seen on a motherboard in this picture illustration taken April 24, 2020. REUTERS/Dado Ruvic/Illustration/File Photo/File PhotoBitcoin dropped 1.77% t… [+389 chars]', 'The logo of the Bitcoin digital currency is seen in a shop in Marseille, France, February 7, 2021. REUTERS/Eric GaillardBitcoin rose 6.54% to $57,098.08 on Friday, adding $3,504.11 to its previous cl… [+370 chars]'): 1, ('The logo of the Bitcoin digital currency is seen in a shop in Marseille, France, February 7, 2021. REUTERS/Eric GaillardBitcoin rose 6.54% to $57,098.08 on Friday, adding $3,504.11 to its previous cl… [+370 chars]', 'Representations of virtual currency Bitcoin are placed on U.S. Dollar banknotes in this illustration taken May 26, 2020. REUTERS/Dado RuvicBitcoin rose 6.8% to $56,852.03 by 1000 GMT on Wednesday, ad… [+358 chars]'): 1, ('Representations of virtual currency Bitcoin are placed on U.S. Dollar banknotes in this illustration taken May 26, 2020. REUTERS/Dado RuvicBitcoin rose 6.8% to $56,852.03 by 1000 GMT on Wednesday, ad… [+358 chars]', 'Staking is what you need to do to become a validator in a proof-of-stake system. This is a consensus mechanism that is going to replace the proof-of-work system currently in place. Consensus mechanis… [+658 chars]'): 1, ('Staking is what you need to do to become a validator in a proof-of-stake system. This is a consensus mechanism that is going to replace the proof-of-work system currently in place. Consensus mechanis… [+658 chars]', 'The dollar recovered from a nine-week low on Thursday, lifted by a rise in U.S. Treasury yields after the government reported strong economic growth for the first quarter and an improvement in new jo… [+3183 chars]'): 1, ('The dollar recovered from a nine-week low on Thursday, lifted by a rise in U.S. Treasury yields after the government reported strong economic growth for the first quarter and an improvement in new jo… [+3183 chars]', 'Coinbases direct listing was a massive finance, startup and cryptocurrency event that impacted a host of public and private investors, early employees, and crypto-enthusiasts. Regardless of where one… [+3563 chars]'): 1, ('Coinbases direct listing was a massive finance, startup and cryptocurrency event that impacted a host of public and private investors, early employees, and crypto-enthusiasts. Regardless of where one… [+3563 chars]', 'Thanks largely to the surge of interest in Bitcoin and ether, the value of the cryptocurrency market exceeded $2 trillion for the first time earlier this week.\\r\\nBitcoin\\xa0hit a benchmark of its own whe… [+1351 chars]'): 1, ('Thanks largely to the surge of interest in Bitcoin and ether, the value of the cryptocurrency market exceeded $2 trillion for the first time earlier this week.\\r\\nBitcoin\\xa0hit a benchmark of its own whe… [+1351 chars]', 'The price action of bitcoin and other cryptocurrencies tends to be highly volatile.\\r\\nWhile many argue that the digital currency space has long-term tailwinds and a strong fundamental investment case,… [+3648 chars]'): 1, ('The price action of bitcoin and other cryptocurrencies tends to be highly volatile.\\r\\nWhile many argue that the digital currency space has long-term tailwinds and a strong fundamental investment case,… [+3648 chars]', 'April\\r\\n27, 2021\\r\\n2 min read\\r\\nOpinions expressed by Entrepreneur contributors are their own.\\r\\nBitcoin rose by over 9%, reaching a total worth of $50,000, CoinDesk reported on Monday, but financial exp… [+1761 chars]'): 1, ('April\\r\\n27, 2021\\r\\n2 min read\\r\\nOpinions expressed by Entrepreneur contributors are their own.\\r\\nBitcoin rose by over 9%, reaching a total worth of $50,000, CoinDesk reported on Monday, but financial exp… [+1761 chars]', 'A representation of virtual currency Bitcoin is seen in front of a stock graph in this illustration taken March 15, 2021. REUTERS/Dado Ruvic/IllustrationInflows into cryptocurrency funds and products… [+2113 chars]'): 1, ('A representation of virtual currency Bitcoin is seen in front of a stock graph in this illustration taken March 15, 2021. REUTERS/Dado Ruvic/IllustrationInflows into cryptocurrency funds and products… [+2113 chars]', \"Bitcoin posted a record weekly outflow, with overall sentiment on cryptocurrencies turning cautious as the digital asset's searing rally hit a wall, data from digital currency manager CoinShares show… [+2161 chars]\"): 1, (\"Bitcoin posted a record weekly outflow, with overall sentiment on cryptocurrencies turning cautious as the digital asset's searing rally hit a wall, data from digital currency manager CoinShares show… [+2161 chars]\", 'NEW YORK (Reuters) - Inflows into cryptocurrency funds and products hit $4.9 billion as of April 16, with the pace of increase slowing a bit in the first two weeks of the month after hitting record l… [+2078 chars]'): 1, ('NEW YORK (Reuters) - Inflows into cryptocurrency funds and products hit $4.9 billion as of April 16, with the pace of increase slowing a bit in the first two weeks of the month after hitting record l… [+2078 chars]', 'Bitcoin jumped as much as 8% on Monday and was on course to snap five straight days of losses, though the cryptocurrency has slumped almost a fifth from its all-time high hit earlier this month.\\r\\nBit… [+705 chars]'): 1, ('Bitcoin jumped as much as 8% on Monday and was on course to snap five straight days of losses, though the cryptocurrency has slumped almost a fifth from its all-time high hit earlier this month.\\r\\nBit… [+705 chars]', \"Annabelle Huang's life before and after switching to digital assets couldn't be more different.\\xa0\\r\\nIn 2017, while working in foreign-exchange structure first for Deutsche Bank and then Nomura in New Y… [+5338 chars]\"): 1, (\"Annabelle Huang's life before and after switching to digital assets couldn't be more different.\\xa0\\r\\nIn 2017, while working in foreign-exchange structure first for Deutsche Bank and then Nomura in New Y… [+5338 chars]\", 'Opinions expressed by Entrepreneur contributors are their own.\\r\\nThe crypto market moves in waves. Bitcoin remains the undisputed blockchain industry leader, but as the major banks and investment fund… [+4681 chars]'): 1, ('Opinions expressed by Entrepreneur contributors are their own.\\r\\nThe crypto market moves in waves. Bitcoin remains the undisputed blockchain industry leader, but as the major banks and investment fund… [+4681 chars]', 'C++ std::unique_ptr that represents each object as an NFT on the Ethereum blockchain.\\r\\n Follow us: worthdoingbadly.com | @zhuowei | @zhuowei@notnow.dev\\r\\nExample: moving between two nft_ptrs\\r\\nauto ptr… [+8824 chars]'): 1, ('C++ std::unique_ptr that represents each object as an NFT on the Ethereum blockchain.\\r\\n Follow us: worthdoingbadly.com | @zhuowei | @zhuowei@notnow.dev\\r\\nExample: moving between two nft_ptrs\\r\\nauto ptr… [+8824 chars]', 'Reuters / Brendan McDermid\\r\\nThe Dow and S&amp;P 500 closed at record highs on Thursday after better than expected weekly jobless claims and retail sales data boosted confidence that the economic reop… [+1814 chars]'): 1, ('Reuters / Brendan McDermid\\r\\nThe Dow and S&amp;P 500 closed at record highs on Thursday after better than expected weekly jobless claims and retail sales data boosted confidence that the economic reop… [+1814 chars]', \"The firm will make it available to all the app's users, who number more than 70 million, within the next few weeks. For now, Venmo is allowing customers to trade in just four types of cryptocurrency:… [+418 chars]\"): 1, (\"The firm will make it available to all the app's users, who number more than 70 million, within the next few weeks. For now, Venmo is allowing customers to trade in just four types of cryptocurrency:… [+418 chars]\", 'Based on recent developments unfathomable to anyone born before 1990, it appears that people want to pay millions of dollars for digital images. Saving or screenshotting is not enough; internet users… [+5595 chars]'): 1, ('Based on recent developments unfathomable to anyone born before 1990, it appears that people want to pay millions of dollars for digital images. Saving or screenshotting is not enough; internet users… [+5595 chars]', \"Ethereum's cryptocurrency ether is at a fork in the road and faces a big test in climbing above $2,700, according to analysts at crypto exchange Kraken.\\r\\nKraken analysts, led by Pete Humiston, said i… [+1976 chars]\"): 1, (\"Ethereum's cryptocurrency ether is at a fork in the road and faces a big test in climbing above $2,700, according to analysts at crypto exchange Kraken.\\r\\nKraken analysts, led by Pete Humiston, said i… [+1976 chars]\", \"Ripple co-founder, Chris Larsen.\\r\\nBankXRP/YouTube\\r\\nThe conversation around bitcoin's environmental threat seems to be escalating as more people call out its impact on the climate.\\r\\nChris Larsen, Ripp… [+2528 chars]\"): 1, (\"Ripple co-founder, Chris Larsen.\\r\\nBankXRP/YouTube\\r\\nThe conversation around bitcoin's environmental threat seems to be escalating as more people call out its impact on the climate.\\r\\nChris Larsen, Ripp… [+2528 chars]\", \"Mark Cuban.\\r\\nBrian Snyder/Reuters\\r\\n<ul><li>Mark Cuban is betting $1 million that Netflix and Amazon will outperform the S&amp;P 500.</li><li>He's also wagering $1 million that bitcoin or ethereum wil… [+1847 chars]\"): 1, (\"Mark Cuban.\\r\\nBrian Snyder/Reuters\\r\\n<ul><li>Mark Cuban is betting $1 million that Netflix and Amazon will outperform the S&amp;P 500.</li><li>He's also wagering $1 million that bitcoin or ethereum wil… [+1847 chars]\", \"Ethereum's cryptocurrency ether rose 35% in March, Kraken said.\\r\\nDado Ruvic/Reuters\\r\\nEthereum's cryptocurrency ether is at a fork in the road and faces a big test in climbing above $2,700, according … [+2061 chars]\"): 1, (\"Ethereum's cryptocurrency ether rose 35% in March, Kraken said.\\r\\nDado Ruvic/Reuters\\r\\nEthereum's cryptocurrency ether is at a fork in the road and faces a big test in climbing above $2,700, according … [+2061 chars]\", \"Venmo just became the latest payments player to respond to consumers' growing demand for cryptocurrencies by adding the ability for users to buy, sell, and hold assets like Bitcoin and Ethereum withi… [+2558 chars]\"): 1, (\"Venmo just became the latest payments player to respond to consumers' growing demand for cryptocurrencies by adding the ability for users to buy, sell, and hold assets like Bitcoin and Ethereum withi… [+2558 chars]\", \"A representation of virtual currency Bitcoin is seen in front of a stock graph in this illustration taken March 15, 2021. REUTERS/Dado Ruvic/IllustrationBitcoin's volatility is its main attraction an… [+2639 chars]\"): 1, (\"A representation of virtual currency Bitcoin is seen in front of a stock graph in this illustration taken March 15, 2021. REUTERS/Dado Ruvic/IllustrationBitcoin's volatility is its main attraction an… [+2639 chars]\", '(Adds quote, updates prices)\\r\\nApril 21 (Reuters) - Bitcoins volatility is its main attraction as that is what gives the cryptocurrency its exponential rises, ex-Goldman Sachs bitcoin enthusiast Raoul… [+2987 chars]'): 1, ('(Adds quote, updates prices)\\r\\nApril 21 (Reuters) - Bitcoins volatility is its main attraction as that is what gives the cryptocurrency its exponential rises, ex-Goldman Sachs bitcoin enthusiast Raoul… [+2987 chars]', '* USD hits three-week peak on JPY, steady elsewhere\\r\\n* KRW dips on N. Korea tension\\r\\n* Ethereum hits record peak\\r\\n* Graphic: World FX rates tmsnrt.rs/2RBWI5E\\r\\nLONDON, May 3 (Reuters) - The dollar lev… [+3594 chars]'): 1, ('* USD hits three-week peak on JPY, steady elsewhere\\r\\n* KRW dips on N. Korea tension\\r\\n* Ethereum hits record peak\\r\\n* Graphic: World FX rates tmsnrt.rs/2RBWI5E\\r\\nLONDON, May 3 (Reuters) - The dollar lev… [+3594 chars]', 'In brief\\r\\n<ul><li>Edward Snowden blew the whistle on the NSA.</li><li>The proceeds of his NFT sale go to the Freedom of the Press Foundation.</li></ul>\\r\\nAn NFT artwork created by Edward Snowden has s… [+2099 chars]'): 1, ('In brief\\r\\n<ul><li>Edward Snowden blew the whistle on the NSA.</li><li>The proceeds of his NFT sale go to the Freedom of the Press Foundation.</li></ul>\\r\\nAn NFT artwork created by Edward Snowden has s… [+2099 chars]', 'Personal Finance Insider writes about products, strategies, and tips to help you make smart decisions with your money. We may receive a small commission from our partners, like American Express, but … [+12936 chars]'): 1, ('Personal Finance Insider writes about products, strategies, and tips to help you make smart decisions with your money. We may receive a small commission from our partners, like American Express, but … [+12936 chars]', \"Melinda Gates officially filed for divorce from Bill Gates late Monday afternoon.\\r\\nAccording to Melinda's petition for divorce filed in King County, Washington, and obtained by PEOPLE, the couple doe… [+2690 chars]\"): 1, (\"Melinda Gates officially filed for divorce from Bill Gates late Monday afternoon.\\r\\nAccording to Melinda's petition for divorce filed in King County, Washington, and obtained by PEOPLE, the couple doe… [+2690 chars]\", 'Ethereum, the words second-largest cryptocurrency by market cap, topped $3,000 for the first time Sunday.\\r\\nAs of Sunday night, ethereum \\r\\n ETHUSD,\\r\\n +2.09%\\r\\nwas at an all-time high of $3,035. Just a … [+641 chars]'): 1, ('Ethereum, the words second-largest cryptocurrency by market cap, topped $3,000 for the first time Sunday.\\r\\nAs of Sunday night, ethereum \\r\\n ETHUSD,\\r\\n +2.09%\\r\\nwas at an all-time high of $3,035. Just a … [+641 chars]', 'After a years-long crypto winter, it been the spring of NFTs, but as digital art prices sober up after an explosion in sales, blockchain founders are looking to find more stable opportunities in the … [+4209 chars]'): 1, ('After a years-long crypto winter, it been the spring of NFTs, but as digital art prices sober up after an explosion in sales, blockchain founders are looking to find more stable opportunities in the … [+4209 chars]', 'April\\r\\n23, 2021\\r\\n6 min read\\r\\nIn recent months, non-fungible tokens (NFTs) have taken the digital world by storm. Though experts date their origins back to 2012, NFTs didn’t start to pick up serious i… [+6211 chars]'): 1, ('April\\r\\n23, 2021\\r\\n6 min read\\r\\nIn recent months, non-fungible tokens (NFTs) have taken the digital world by storm. Though experts date their origins back to 2012, NFTs didn’t start to pick up serious i… [+6211 chars]', 'By Reuters Staff\\r\\nApril 13 (Reuters) - Blockchain technology firm ConsenSys said on Tuesday it had raised $65 million from major banks and financial services firms including J.P. Morgan, Mastercard I… [+1508 chars]'): 1, ('By Reuters Staff\\r\\nApril 13 (Reuters) - Blockchain technology firm ConsenSys said on Tuesday it had raised $65 million from major banks and financial services firms including J.P. Morgan, Mastercard I… [+1508 chars]', 'image captionZoë Roth\\'s father, Dave, took her picture outside a controlled burn in 2005\\r\\nThe woman in the viral \"Disaster Girl\" meme has sold the original photograph for $473,000 (£341,000).\\r\\nZoë Ro… [+2682 chars]'): 1, ('image captionZoë Roth\\'s father, Dave, took her picture outside a controlled burn in 2005\\r\\nThe woman in the viral \"Disaster Girl\" meme has sold the original photograph for $473,000 (£341,000).\\r\\nZoë Ro… [+2682 chars]', 'April\\r\\n13, 2021\\r\\n4 min read\\r\\nOpinions expressed by Entrepreneur contributors are their own.\\r\\nA century ago, French artist Marcel Duchamp changed the art world forever. In 1917, he submitted an upside… [+4055 chars]'): 1, ('April\\r\\n13, 2021\\r\\n4 min read\\r\\nOpinions expressed by Entrepreneur contributors are their own.\\r\\nA century ago, French artist Marcel Duchamp changed the art world forever. In 1917, he submitted an upside… [+4055 chars]', 'April\\r\\n24, 2021\\r\\n4 min read\\r\\nThis story originally appeared on MarketBeatTime To Start Buying Bitcoin Again\\xa0\\r\\nWith Bitcoin down more than 25%, we’re sure there are no few Bitcoin (CRYPTO: BTC) holder… [+4323 chars]'): 1, ('April\\r\\n24, 2021\\r\\n4 min read\\r\\nThis story originally appeared on MarketBeatTime To Start Buying Bitcoin Again\\xa0\\r\\nWith Bitcoin down more than 25%, we’re sure there are no few Bitcoin (CRYPTO: BTC) holder… [+4323 chars]', 'April\\r\\n28, 2021\\r\\n2 min read\\r\\nThis article was translated from our Spanish edition using AI technologies. Errors may exist due to this process.\\r\\nWere you ever a meme? Maybe you should check what all t… [+1043 chars]'): 1, ('April\\r\\n28, 2021\\r\\n2 min read\\r\\nThis article was translated from our Spanish edition using AI technologies. Errors may exist due to this process.\\r\\nWere you ever a meme? Maybe you should check what all t… [+1043 chars]', 'Star football prospect and presumptive first overall selection in this weeks NFL draft Trevor Lawrence is signing a slew of endorsement deals including with Gatorade, Adidas \\r\\n ADS,\\r\\n -0.30%\\r\\nand cry… [+1291 chars]'): 1, ('Star football prospect and presumptive first overall selection in this weeks NFL draft Trevor Lawrence is signing a slew of endorsement deals including with Gatorade, Adidas \\r\\n ADS,\\r\\n -0.30%\\r\\nand cry… [+1291 chars]', 'April\\r\\n16, 2021\\r\\n9 min read\\r\\nOpinions expressed by Entrepreneur contributors are their own.\\r\\nAs Bitcoin, Ethereum, and other cryptocurrencies make headlines year after year, bystanders experience FOM… [+9971 chars]'): 1, ('April\\r\\n16, 2021\\r\\n9 min read\\r\\nOpinions expressed by Entrepreneur contributors are their own.\\r\\nAs Bitcoin, Ethereum, and other cryptocurrencies make headlines year after year, bystanders experience FOM… [+9971 chars]', 'A decline in bitcoin of more than 4% transpired on Wednesday as the cryptocurrency continued to meet resistance at the $60,000 level.\\r\\nSellers outweighed buyers of bitcoin near $60,000, and the selli… [+1629 chars]'): 1, ('A decline in bitcoin of more than 4% transpired on Wednesday as the cryptocurrency continued to meet resistance at the $60,000 level.\\r\\nSellers outweighed buyers of bitcoin near $60,000, and the selli… [+1629 chars]', 'Venmo announced Tuesday that it will let users buy, hold and sell cryptocurrency directly in its app as digital currency goes more mainstream.\\r\\nThe feature, rolling out starting Tuesday, will be avai… [+1879 chars]'): 1, ('Venmo announced Tuesday that it will let users buy, hold and sell cryptocurrency directly in its app as digital currency goes more mainstream.\\r\\nThe feature, rolling out starting Tuesday, will be avai… [+1879 chars]', 'As of last month, the age of NFTs was officially upon us. As of this month, it might be on its way out. Average prices have declined by as much as 70% since a peak in February, according to Bloomberg… [+7496 chars]'): 1, ('As of last month, the age of NFTs was officially upon us. As of this month, it might be on its way out. Average prices have declined by as much as 70% since a peak in February, according to Bloomberg… [+7496 chars]', 'Reuters\\r\\nThe market value of ether, the digital currency tied to the Ethereum blockchain, is now worth more than Walmart.\\r\\nEther jumped more than 10% to record highs on Tuesday, bringing its year-to-… [+1807 chars]'): 1, ('Reuters\\r\\nThe market value of ether, the digital currency tied to the Ethereum blockchain, is now worth more than Walmart.\\r\\nEther jumped more than 10% to record highs on Tuesday, bringing its year-to-… [+1807 chars]', 'TOKYO (Reuters) - The U.S. dollar skidded toward a fourth straight weekly decline against a basket of major peers on Friday, as the Federal Reserve stuck to its message of ultra-low interest rates fo… [+3801 chars]'): 1, ('TOKYO (Reuters) - The U.S. dollar skidded toward a fourth straight weekly decline against a basket of major peers on Friday, as the Federal Reserve stuck to its message of ultra-low interest rates fo… [+3801 chars]', 'The Golden State Warriors are bouncing into the digital images market with the launch of an NFT collection, with the basketball team saying Tuesday it is the first professional sports team to make su… [+1439 chars]'): 1, ('The Golden State Warriors are bouncing into the digital images market with the launch of an NFT collection, with the basketball team saying Tuesday it is the first professional sports team to make su… [+1439 chars]', \"In this photo illustration a Venmo mobile payment service logo seen displayed on a smartphone.\\r\\nPhoto Illustration by Igor Golovniov/SOPA Images/LightRocket via Getty Images\\r\\nPayPal's Venmo payments … [+1691 chars]\"): 1, (\"In this photo illustration a Venmo mobile payment service logo seen displayed on a smartphone.\\r\\nPhoto Illustration by Igor Golovniov/SOPA Images/LightRocket via Getty Images\\r\\nPayPal's Venmo payments … [+1691 chars]\", 'Yuriko Nakao/Getty Images\\r\\nWall Street Bets only last week announced its members would be allowed to engage in conversations about cryptocurrencies on the popular financial discussion forum. \\r\\nDiscus… [+1429 chars]'): 1, ('Yuriko Nakao/Getty Images\\r\\nWall Street Bets only last week announced its members would be allowed to engage in conversations about cryptocurrencies on the popular financial discussion forum. \\r\\nDiscus… [+1429 chars]', 'The U.S. dollar skidded toward a fourth straight weekly decline against a basket of major peers on Friday, as the Federal Reserve stuck to its message of ultra-low interest rates for longer.\\r\\nThe dol… [+3947 chars]'): 1, ('The U.S. dollar skidded toward a fourth straight weekly decline against a basket of major peers on Friday, as the Federal Reserve stuck to its message of ultra-low interest rates for longer.\\r\\nThe dol… [+3947 chars]', 'U.S. one hundred dollar notes are seen in this picture illustration taken in Seoul February 7, 2011. REUTERS/Lee Jae-WonThe U.S. dollar skidded towards a fourth straight weekly decline and its longes… [+4030 chars]'): 1, ('U.S. one hundred dollar notes are seen in this picture illustration taken in Seoul February 7, 2011. REUTERS/Lee Jae-WonThe U.S. dollar skidded towards a fourth straight weekly decline and its longes… [+4030 chars]', 'The German headquarters of the electronic payments division PayPal is pictured at Europarc Dreilinden business park south of Berlin in Kleinmachnow, Germany, August 6, 2019. REUTERS/Fabrizio BenschVe… [+2228 chars]'): 1}\n"
     ]
    }
   ],
   "source": [
    "# Generate the Ethereum N-grams where N=2\n",
    "eth_bigram_counts = Counter(ngrams(eth_df['text'], n=2))\n",
    "print(dict(eth_bigram_counts))"
   ]
  },
  {
   "cell_type": "code",
   "execution_count": 25,
   "metadata": {},
   "outputs": [
    {
     "ename": "SyntaxError",
     "evalue": "invalid syntax (<ipython-input-25-0535ac1ae92d>, line 4)",
     "output_type": "error",
     "traceback": [
      "\u001b[1;36m  File \u001b[1;32m\"<ipython-input-25-0535ac1ae92d>\"\u001b[1;36m, line \u001b[1;32m4\u001b[0m\n\u001b[1;33m    return Counter(tokens).most_common(10), columns=['word', 'count'])\u001b[0m\n\u001b[1;37m                                                   ^\u001b[0m\n\u001b[1;31mSyntaxError\u001b[0m\u001b[1;31m:\u001b[0m invalid syntax\n"
     ]
    }
   ],
   "source": [
    "# Function token_count generates the top 10 words for a given coin\n",
    "def token_count(tokens, N=3):\n",
    "    \"\"\"Returns the top N tokens from the frequency count\"\"\"\n",
    "    return Counter(tokens).most_common(10), columns=['word', 'count'])"
   ]
  },
  {
   "cell_type": "code",
   "execution_count": null,
   "metadata": {},
   "outputs": [],
   "source": [
    "# Define the counter function\n",
    "def word_counter(corpus): \n",
    "    # Combine all articles in corpus into one large string\n",
    "    big_string = ' '.join(corpus)\n",
    "    processed = process_text(big_string)\n",
    "    top_10 = dict(Counter(processed).most_common(10))\n",
    "    return pd.DataFrame(list(top_10.items()), columns=['word', 'count'])"
   ]
  },
  {
   "cell_type": "code",
   "execution_count": 19,
   "metadata": {},
   "outputs": [],
   "source": [
    "# Use token_count to get the top 10 words for Bitcoin\n",
    "# YOUR CODE HERE!"
   ]
  },
  {
   "cell_type": "code",
   "execution_count": 20,
   "metadata": {},
   "outputs": [],
   "source": [
    "# Use token_count to get the top 10 words for Ethereum\n",
    "# YOUR CODE HERE!"
   ]
  },
  {
   "cell_type": "markdown",
   "metadata": {},
   "source": [
    "---"
   ]
  },
  {
   "cell_type": "markdown",
   "metadata": {},
   "source": [
    "### Word Clouds\n",
    "\n",
    "In this section, you will generate word clouds for each coin to summarize the news for each coin"
   ]
  },
  {
   "cell_type": "code",
   "execution_count": 21,
   "metadata": {},
   "outputs": [],
   "source": [
    "from wordcloud import WordCloud\n",
    "import matplotlib.pyplot as plt\n",
    "plt.style.use('seaborn-whitegrid')\n",
    "import matplotlib as mpl\n",
    "mpl.rcParams['figure.figsize'] = [20.0, 10.0]"
   ]
  },
  {
   "cell_type": "code",
   "execution_count": 22,
   "metadata": {},
   "outputs": [],
   "source": [
    "# Generate the Bitcoin word cloud\n",
    "# YOUR CODE HERE!"
   ]
  },
  {
   "cell_type": "code",
   "execution_count": 23,
   "metadata": {},
   "outputs": [],
   "source": [
    "# Generate the Ethereum word cloud\n",
    "# YOUR CODE HERE!"
   ]
  },
  {
   "cell_type": "markdown",
   "metadata": {},
   "source": [
    "---\n",
    "## 3. Named Entity Recognition\n",
    "\n",
    "In this section, you will build a named entity recognition model for both Bitcoin and Ethereum, then visualize the tags using SpaCy."
   ]
  },
  {
   "cell_type": "code",
   "execution_count": 24,
   "metadata": {},
   "outputs": [],
   "source": [
    "import spacy\n",
    "from spacy import displacy"
   ]
  },
  {
   "cell_type": "code",
   "execution_count": 25,
   "metadata": {},
   "outputs": [],
   "source": [
    "# Download the language model for SpaCy\n",
    "# !python -m spacy download en_core_web_sm"
   ]
  },
  {
   "cell_type": "code",
   "execution_count": 26,
   "metadata": {},
   "outputs": [],
   "source": [
    "# Load the spaCy model\n",
    "nlp = spacy.load('en_core_web_sm')"
   ]
  },
  {
   "cell_type": "markdown",
   "metadata": {},
   "source": [
    "---\n",
    "### Bitcoin NER"
   ]
  },
  {
   "cell_type": "code",
   "execution_count": 27,
   "metadata": {},
   "outputs": [],
   "source": [
    "# Concatenate all of the Bitcoin text together\n",
    "# YOUR CODE HERE!"
   ]
  },
  {
   "cell_type": "code",
   "execution_count": 28,
   "metadata": {},
   "outputs": [],
   "source": [
    "# Run the NER processor on all of the text\n",
    "# YOUR CODE HERE!\n",
    "\n",
    "# Add a title to the document\n",
    "# YOUR CODE HERE!"
   ]
  },
  {
   "cell_type": "code",
   "execution_count": 29,
   "metadata": {},
   "outputs": [],
   "source": [
    "# Render the visualization\n",
    "# YOUR CODE HERE!"
   ]
  },
  {
   "cell_type": "code",
   "execution_count": 30,
   "metadata": {},
   "outputs": [],
   "source": [
    "# List all Entities\n",
    "# YOUR CODE HERE!"
   ]
  },
  {
   "cell_type": "markdown",
   "metadata": {},
   "source": [
    "---"
   ]
  },
  {
   "cell_type": "markdown",
   "metadata": {},
   "source": [
    "### Ethereum NER"
   ]
  },
  {
   "cell_type": "code",
   "execution_count": 31,
   "metadata": {},
   "outputs": [],
   "source": [
    "# Concatenate all of the Ethereum text together\n",
    "# YOUR CODE HERE!"
   ]
  },
  {
   "cell_type": "code",
   "execution_count": 32,
   "metadata": {},
   "outputs": [],
   "source": [
    "# Run the NER processor on all of the text\n",
    "# YOUR CODE HERE!\n",
    "\n",
    "# Add a title to the document\n",
    "# YOUR CODE HERE!"
   ]
  },
  {
   "cell_type": "code",
   "execution_count": 33,
   "metadata": {},
   "outputs": [],
   "source": [
    "# Render the visualization\n",
    "# YOUR CODE HERE!"
   ]
  },
  {
   "cell_type": "code",
   "execution_count": 34,
   "metadata": {},
   "outputs": [],
   "source": [
    "# List all Entities\n",
    "# YOUR CODE HERE!"
   ]
  },
  {
   "cell_type": "markdown",
   "metadata": {},
   "source": [
    "---"
   ]
  }
 ],
 "metadata": {
  "file_extension": ".py",
  "kernelspec": {
   "display_name": "Python [conda env:NLP]",
   "language": "python",
   "name": "conda-env-NLP-py"
  },
  "language_info": {
   "codemirror_mode": {
    "name": "ipython",
    "version": 3
   },
   "file_extension": ".py",
   "mimetype": "text/x-python",
   "name": "python",
   "nbconvert_exporter": "python",
   "pygments_lexer": "ipython3",
   "version": "3.9.2"
  },
  "mimetype": "text/x-python",
  "name": "python",
  "npconvert_exporter": "python",
  "pygments_lexer": "ipython3",
  "version": 3
 },
 "nbformat": 4,
 "nbformat_minor": 4
}
